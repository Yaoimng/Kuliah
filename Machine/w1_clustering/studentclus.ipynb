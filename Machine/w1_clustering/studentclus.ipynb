{
 "cells": [
  {
   "cell_type": "code",
   "execution_count": 1,
   "metadata": {},
   "outputs": [],
   "source": [
    "import pandas as pd\n",
    "import numpy as np\n",
    "import sklearn\n",
    "import matplotlib.pyplot as plt\n",
    "import seaborn as sns"
   ]
  },
  {
   "cell_type": "code",
   "execution_count": 2,
   "metadata": {},
   "outputs": [
    {
     "data": {
      "text/html": [
       "<div>\n",
       "<style scoped>\n",
       "    .dataframe tbody tr th:only-of-type {\n",
       "        vertical-align: middle;\n",
       "    }\n",
       "\n",
       "    .dataframe tbody tr th {\n",
       "        vertical-align: top;\n",
       "    }\n",
       "\n",
       "    .dataframe thead th {\n",
       "        text-align: right;\n",
       "    }\n",
       "</style>\n",
       "<table border=\"1\" class=\"dataframe\">\n",
       "  <thead>\n",
       "    <tr style=\"text-align: right;\">\n",
       "      <th></th>\n",
       "      <th>gradyear</th>\n",
       "      <th>gender</th>\n",
       "      <th>age</th>\n",
       "      <th>NumberOffriends</th>\n",
       "      <th>basketball</th>\n",
       "      <th>football</th>\n",
       "      <th>soccer</th>\n",
       "      <th>softball</th>\n",
       "      <th>volleyball</th>\n",
       "      <th>swimming</th>\n",
       "      <th>...</th>\n",
       "      <th>blonde</th>\n",
       "      <th>mall</th>\n",
       "      <th>shopping</th>\n",
       "      <th>clothes</th>\n",
       "      <th>hollister</th>\n",
       "      <th>abercrombie</th>\n",
       "      <th>die</th>\n",
       "      <th>death</th>\n",
       "      <th>drunk</th>\n",
       "      <th>drugs</th>\n",
       "    </tr>\n",
       "  </thead>\n",
       "  <tbody>\n",
       "    <tr>\n",
       "      <th>0</th>\n",
       "      <td>2007</td>\n",
       "      <td>NaN</td>\n",
       "      <td>NaN</td>\n",
       "      <td>0</td>\n",
       "      <td>0</td>\n",
       "      <td>0</td>\n",
       "      <td>0</td>\n",
       "      <td>0</td>\n",
       "      <td>0</td>\n",
       "      <td>0</td>\n",
       "      <td>...</td>\n",
       "      <td>0</td>\n",
       "      <td>0</td>\n",
       "      <td>0</td>\n",
       "      <td>0</td>\n",
       "      <td>0</td>\n",
       "      <td>0</td>\n",
       "      <td>0</td>\n",
       "      <td>0</td>\n",
       "      <td>0</td>\n",
       "      <td>0</td>\n",
       "    </tr>\n",
       "    <tr>\n",
       "      <th>1</th>\n",
       "      <td>2007</td>\n",
       "      <td>F</td>\n",
       "      <td>17.41</td>\n",
       "      <td>49</td>\n",
       "      <td>0</td>\n",
       "      <td>0</td>\n",
       "      <td>1</td>\n",
       "      <td>0</td>\n",
       "      <td>0</td>\n",
       "      <td>1</td>\n",
       "      <td>...</td>\n",
       "      <td>0</td>\n",
       "      <td>0</td>\n",
       "      <td>0</td>\n",
       "      <td>0</td>\n",
       "      <td>0</td>\n",
       "      <td>0</td>\n",
       "      <td>0</td>\n",
       "      <td>0</td>\n",
       "      <td>1</td>\n",
       "      <td>0</td>\n",
       "    </tr>\n",
       "    <tr>\n",
       "      <th>2</th>\n",
       "      <td>2007</td>\n",
       "      <td>F</td>\n",
       "      <td>17.511</td>\n",
       "      <td>41</td>\n",
       "      <td>0</td>\n",
       "      <td>0</td>\n",
       "      <td>0</td>\n",
       "      <td>0</td>\n",
       "      <td>0</td>\n",
       "      <td>0</td>\n",
       "      <td>...</td>\n",
       "      <td>0</td>\n",
       "      <td>1</td>\n",
       "      <td>0</td>\n",
       "      <td>0</td>\n",
       "      <td>0</td>\n",
       "      <td>0</td>\n",
       "      <td>0</td>\n",
       "      <td>0</td>\n",
       "      <td>1</td>\n",
       "      <td>1</td>\n",
       "    </tr>\n",
       "    <tr>\n",
       "      <th>3</th>\n",
       "      <td>2006</td>\n",
       "      <td>F</td>\n",
       "      <td>NaN</td>\n",
       "      <td>36</td>\n",
       "      <td>0</td>\n",
       "      <td>0</td>\n",
       "      <td>0</td>\n",
       "      <td>0</td>\n",
       "      <td>0</td>\n",
       "      <td>0</td>\n",
       "      <td>...</td>\n",
       "      <td>0</td>\n",
       "      <td>0</td>\n",
       "      <td>0</td>\n",
       "      <td>0</td>\n",
       "      <td>0</td>\n",
       "      <td>0</td>\n",
       "      <td>0</td>\n",
       "      <td>0</td>\n",
       "      <td>0</td>\n",
       "      <td>0</td>\n",
       "    </tr>\n",
       "    <tr>\n",
       "      <th>4</th>\n",
       "      <td>2008</td>\n",
       "      <td>F</td>\n",
       "      <td>16.657</td>\n",
       "      <td>1</td>\n",
       "      <td>0</td>\n",
       "      <td>0</td>\n",
       "      <td>0</td>\n",
       "      <td>0</td>\n",
       "      <td>0</td>\n",
       "      <td>1</td>\n",
       "      <td>...</td>\n",
       "      <td>0</td>\n",
       "      <td>0</td>\n",
       "      <td>0</td>\n",
       "      <td>3</td>\n",
       "      <td>0</td>\n",
       "      <td>0</td>\n",
       "      <td>0</td>\n",
       "      <td>0</td>\n",
       "      <td>0</td>\n",
       "      <td>0</td>\n",
       "    </tr>\n",
       "  </tbody>\n",
       "</table>\n",
       "<p>5 rows × 40 columns</p>\n",
       "</div>"
      ],
      "text/plain": [
       "   gradyear gender     age  NumberOffriends  basketball  football  soccer  \\\n",
       "0      2007    NaN     NaN                0           0         0       0   \n",
       "1      2007      F   17.41               49           0         0       1   \n",
       "2      2007      F  17.511               41           0         0       0   \n",
       "3      2006      F     NaN               36           0         0       0   \n",
       "4      2008      F  16.657                1           0         0       0   \n",
       "\n",
       "   softball  volleyball  swimming  ...  blonde  mall  shopping  clothes  \\\n",
       "0         0           0         0  ...       0     0         0        0   \n",
       "1         0           0         1  ...       0     0         0        0   \n",
       "2         0           0         0  ...       0     1         0        0   \n",
       "3         0           0         0  ...       0     0         0        0   \n",
       "4         0           0         1  ...       0     0         0        3   \n",
       "\n",
       "   hollister  abercrombie  die  death  drunk  drugs  \n",
       "0          0            0    0      0      0      0  \n",
       "1          0            0    0      0      1      0  \n",
       "2          0            0    0      0      1      1  \n",
       "3          0            0    0      0      0      0  \n",
       "4          0            0    0      0      0      0  \n",
       "\n",
       "[5 rows x 40 columns]"
      ]
     },
     "execution_count": 2,
     "metadata": {},
     "output_type": "execute_result"
    }
   ],
   "source": [
    "data = pd.read_csv('03_Clustering_Marketing.csv')\n",
    "data.head()"
   ]
  },
  {
   "cell_type": "markdown",
   "metadata": {},
   "source": [
    "## Data Exploration and Cleaning"
   ]
  },
  {
   "cell_type": "code",
   "execution_count": 3,
   "metadata": {},
   "outputs": [
    {
     "data": {
      "text/html": [
       "<div>\n",
       "<style scoped>\n",
       "    .dataframe tbody tr th:only-of-type {\n",
       "        vertical-align: middle;\n",
       "    }\n",
       "\n",
       "    .dataframe tbody tr th {\n",
       "        vertical-align: top;\n",
       "    }\n",
       "\n",
       "    .dataframe thead th {\n",
       "        text-align: right;\n",
       "    }\n",
       "</style>\n",
       "<table border=\"1\" class=\"dataframe\">\n",
       "  <thead>\n",
       "    <tr style=\"text-align: right;\">\n",
       "      <th></th>\n",
       "      <th>gradyear</th>\n",
       "      <th>gender</th>\n",
       "      <th>age</th>\n",
       "      <th>NumberOffriends</th>\n",
       "      <th>basketball</th>\n",
       "      <th>football</th>\n",
       "      <th>soccer</th>\n",
       "      <th>softball</th>\n",
       "      <th>volleyball</th>\n",
       "      <th>swimming</th>\n",
       "      <th>...</th>\n",
       "      <th>blonde</th>\n",
       "      <th>mall</th>\n",
       "      <th>shopping</th>\n",
       "      <th>clothes</th>\n",
       "      <th>hollister</th>\n",
       "      <th>abercrombie</th>\n",
       "      <th>die</th>\n",
       "      <th>death</th>\n",
       "      <th>drunk</th>\n",
       "      <th>drugs</th>\n",
       "    </tr>\n",
       "  </thead>\n",
       "  <tbody>\n",
       "    <tr>\n",
       "      <th>0</th>\n",
       "      <td>2007</td>\n",
       "      <td>NaN</td>\n",
       "      <td>NaN</td>\n",
       "      <td>0</td>\n",
       "      <td>0</td>\n",
       "      <td>0</td>\n",
       "      <td>0</td>\n",
       "      <td>0</td>\n",
       "      <td>0</td>\n",
       "      <td>0</td>\n",
       "      <td>...</td>\n",
       "      <td>0</td>\n",
       "      <td>0</td>\n",
       "      <td>0</td>\n",
       "      <td>0</td>\n",
       "      <td>0</td>\n",
       "      <td>0</td>\n",
       "      <td>0</td>\n",
       "      <td>0</td>\n",
       "      <td>0</td>\n",
       "      <td>0</td>\n",
       "    </tr>\n",
       "    <tr>\n",
       "      <th>1</th>\n",
       "      <td>2007</td>\n",
       "      <td>F</td>\n",
       "      <td>17.41</td>\n",
       "      <td>49</td>\n",
       "      <td>0</td>\n",
       "      <td>0</td>\n",
       "      <td>1</td>\n",
       "      <td>0</td>\n",
       "      <td>0</td>\n",
       "      <td>1</td>\n",
       "      <td>...</td>\n",
       "      <td>0</td>\n",
       "      <td>0</td>\n",
       "      <td>0</td>\n",
       "      <td>0</td>\n",
       "      <td>0</td>\n",
       "      <td>0</td>\n",
       "      <td>0</td>\n",
       "      <td>0</td>\n",
       "      <td>1</td>\n",
       "      <td>0</td>\n",
       "    </tr>\n",
       "    <tr>\n",
       "      <th>2</th>\n",
       "      <td>2007</td>\n",
       "      <td>F</td>\n",
       "      <td>17.511</td>\n",
       "      <td>41</td>\n",
       "      <td>0</td>\n",
       "      <td>0</td>\n",
       "      <td>0</td>\n",
       "      <td>0</td>\n",
       "      <td>0</td>\n",
       "      <td>0</td>\n",
       "      <td>...</td>\n",
       "      <td>0</td>\n",
       "      <td>1</td>\n",
       "      <td>0</td>\n",
       "      <td>0</td>\n",
       "      <td>0</td>\n",
       "      <td>0</td>\n",
       "      <td>0</td>\n",
       "      <td>0</td>\n",
       "      <td>1</td>\n",
       "      <td>1</td>\n",
       "    </tr>\n",
       "    <tr>\n",
       "      <th>3</th>\n",
       "      <td>2006</td>\n",
       "      <td>F</td>\n",
       "      <td>NaN</td>\n",
       "      <td>36</td>\n",
       "      <td>0</td>\n",
       "      <td>0</td>\n",
       "      <td>0</td>\n",
       "      <td>0</td>\n",
       "      <td>0</td>\n",
       "      <td>0</td>\n",
       "      <td>...</td>\n",
       "      <td>0</td>\n",
       "      <td>0</td>\n",
       "      <td>0</td>\n",
       "      <td>0</td>\n",
       "      <td>0</td>\n",
       "      <td>0</td>\n",
       "      <td>0</td>\n",
       "      <td>0</td>\n",
       "      <td>0</td>\n",
       "      <td>0</td>\n",
       "    </tr>\n",
       "    <tr>\n",
       "      <th>4</th>\n",
       "      <td>2008</td>\n",
       "      <td>F</td>\n",
       "      <td>16.657</td>\n",
       "      <td>1</td>\n",
       "      <td>0</td>\n",
       "      <td>0</td>\n",
       "      <td>0</td>\n",
       "      <td>0</td>\n",
       "      <td>0</td>\n",
       "      <td>1</td>\n",
       "      <td>...</td>\n",
       "      <td>0</td>\n",
       "      <td>0</td>\n",
       "      <td>0</td>\n",
       "      <td>3</td>\n",
       "      <td>0</td>\n",
       "      <td>0</td>\n",
       "      <td>0</td>\n",
       "      <td>0</td>\n",
       "      <td>0</td>\n",
       "      <td>0</td>\n",
       "    </tr>\n",
       "  </tbody>\n",
       "</table>\n",
       "<p>5 rows × 40 columns</p>\n",
       "</div>"
      ],
      "text/plain": [
       "   gradyear gender     age  NumberOffriends  basketball  football  soccer  \\\n",
       "0      2007    NaN     NaN                0           0         0       0   \n",
       "1      2007      F   17.41               49           0         0       1   \n",
       "2      2007      F  17.511               41           0         0       0   \n",
       "3      2006      F     NaN               36           0         0       0   \n",
       "4      2008      F  16.657                1           0         0       0   \n",
       "\n",
       "   softball  volleyball  swimming  ...  blonde  mall  shopping  clothes  \\\n",
       "0         0           0         0  ...       0     0         0        0   \n",
       "1         0           0         1  ...       0     0         0        0   \n",
       "2         0           0         0  ...       0     1         0        0   \n",
       "3         0           0         0  ...       0     0         0        0   \n",
       "4         0           0         1  ...       0     0         0        3   \n",
       "\n",
       "   hollister  abercrombie  die  death  drunk  drugs  \n",
       "0          0            0    0      0      0      0  \n",
       "1          0            0    0      0      1      0  \n",
       "2          0            0    0      0      1      1  \n",
       "3          0            0    0      0      0      0  \n",
       "4          0            0    0      0      0      0  \n",
       "\n",
       "[5 rows x 40 columns]"
      ]
     },
     "execution_count": 3,
     "metadata": {},
     "output_type": "execute_result"
    }
   ],
   "source": [
    "df = data.copy()\n",
    "df.head()"
   ]
  },
  {
   "cell_type": "code",
   "execution_count": 4,
   "metadata": {},
   "outputs": [
    {
     "data": {
      "text/plain": [
       "15000"
      ]
     },
     "execution_count": 4,
     "metadata": {},
     "output_type": "execute_result"
    }
   ],
   "source": [
    "len(df)"
   ]
  },
  {
   "cell_type": "code",
   "execution_count": 5,
   "metadata": {},
   "outputs": [
    {
     "data": {
      "text/plain": [
       "gradyear              0\n",
       "gender             1337\n",
       "age                2496\n",
       "NumberOffriends       0\n",
       "basketball            0\n",
       "football              0\n",
       "soccer                0\n",
       "softball              0\n",
       "volleyball            0\n",
       "swimming              0\n",
       "cheerleading          0\n",
       "baseball              0\n",
       "tennis                0\n",
       "sports                0\n",
       "cute                  0\n",
       "sex                   0\n",
       "sexy                  0\n",
       "hot                   0\n",
       "kissed                0\n",
       "dance                 0\n",
       "band                  0\n",
       "marching              0\n",
       "music                 0\n",
       "rock                  0\n",
       "god                   0\n",
       "church                0\n",
       "jesus                 0\n",
       "bible                 0\n",
       "hair                  0\n",
       "dress                 0\n",
       "blonde                0\n",
       "mall                  0\n",
       "shopping              0\n",
       "clothes               0\n",
       "hollister             0\n",
       "abercrombie           0\n",
       "die                   0\n",
       "death                 0\n",
       "drunk                 0\n",
       "drugs                 0\n",
       "dtype: int64"
      ]
     },
     "execution_count": 5,
     "metadata": {},
     "output_type": "execute_result"
    }
   ],
   "source": [
    "df.isna().sum()"
   ]
  },
  {
   "cell_type": "code",
   "execution_count": 12,
   "metadata": {},
   "outputs": [
    {
     "data": {
      "text/plain": [
       "gender\n",
       "F      11057\n",
       "M       2606\n",
       "NaN     1337\n",
       "Name: count, dtype: int64"
      ]
     },
     "execution_count": 12,
     "metadata": {},
     "output_type": "execute_result"
    }
   ],
   "source": [
    "df['gender'].value_counts(dropna = False) #display NaN values also"
   ]
  },
  {
   "cell_type": "markdown",
   "metadata": {},
   "source": [
    "There are 11057 female, 2606 male teen students and 1337 missing values"
   ]
  },
  {
   "cell_type": "code",
   "execution_count": 13,
   "metadata": {},
   "outputs": [],
   "source": [
    "df['gender'].fillna('not disclosed', inplace = True)"
   ]
  },
  {
   "cell_type": "code",
   "execution_count": 14,
   "metadata": {},
   "outputs": [
    {
     "data": {
      "text/plain": [
       "0"
      ]
     },
     "execution_count": 14,
     "metadata": {},
     "output_type": "execute_result"
    }
   ],
   "source": [
    "df['gender'].isnull().sum()"
   ]
  },
  {
   "cell_type": "code",
   "execution_count": 15,
   "metadata": {},
   "outputs": [
    {
     "data": {
      "text/plain": [
       "array(['not disclosed', 'F', 'M'], dtype=object)"
      ]
     },
     "execution_count": 15,
     "metadata": {},
     "output_type": "execute_result"
    }
   ],
   "source": [
    "df['gender'].unique()"
   ]
  },
  {
   "cell_type": "markdown",
   "metadata": {},
   "source": [
    "fill the missing values with the average age of each graduation year"
   ]
  },
  {
   "cell_type": "code",
   "execution_count": 16,
   "metadata": {},
   "outputs": [],
   "source": [
    "df['age'] = pd.to_numeric(df['age'], errors='coerce')"
   ]
  },
  {
   "cell_type": "code",
   "execution_count": 17,
   "metadata": {},
   "outputs": [
    {
     "data": {
      "text/plain": [
       "gradyear\n",
       "2006    19.010786\n",
       "2007    18.400134\n",
       "2008    17.593006\n",
       "2009    16.886244\n",
       "Name: age, dtype: float64"
      ]
     },
     "execution_count": 17,
     "metadata": {},
     "output_type": "execute_result"
    }
   ],
   "source": [
    "df.groupby('gradyear')['age'].mean()"
   ]
  },
  {
   "cell_type": "code",
   "execution_count": 18,
   "metadata": {},
   "outputs": [],
   "source": [
    "df['age'] = df.groupby('gradyear')['age'].transform(lambda x: x.fillna(x.mean()))"
   ]
  },
  {
   "cell_type": "code",
   "execution_count": 19,
   "metadata": {},
   "outputs": [
    {
     "data": {
      "text/plain": [
       "0"
      ]
     },
     "execution_count": 19,
     "metadata": {},
     "output_type": "execute_result"
    }
   ],
   "source": [
    "df['age'].isnull().sum()"
   ]
  },
  {
   "cell_type": "markdown",
   "metadata": {},
   "source": [
    "From the above summary we can see that there are no missing values in the dataset"
   ]
  },
  {
   "cell_type": "code",
   "execution_count": 20,
   "metadata": {},
   "outputs": [
    {
     "data": {
      "text/plain": [
       "280"
      ]
     },
     "execution_count": 20,
     "metadata": {},
     "output_type": "execute_result"
    }
   ],
   "source": [
    "df.duplicated().sum()"
   ]
  },
  {
   "cell_type": "code",
   "execution_count": 21,
   "metadata": {},
   "outputs": [
    {
     "data": {
      "text/html": [
       "<div>\n",
       "<style scoped>\n",
       "    .dataframe tbody tr th:only-of-type {\n",
       "        vertical-align: middle;\n",
       "    }\n",
       "\n",
       "    .dataframe tbody tr th {\n",
       "        vertical-align: top;\n",
       "    }\n",
       "\n",
       "    .dataframe thead th {\n",
       "        text-align: right;\n",
       "    }\n",
       "</style>\n",
       "<table border=\"1\" class=\"dataframe\">\n",
       "  <thead>\n",
       "    <tr style=\"text-align: right;\">\n",
       "      <th></th>\n",
       "      <th>gradyear</th>\n",
       "      <th>gender</th>\n",
       "      <th>age</th>\n",
       "      <th>NumberOffriends</th>\n",
       "      <th>basketball</th>\n",
       "      <th>football</th>\n",
       "      <th>soccer</th>\n",
       "      <th>softball</th>\n",
       "      <th>volleyball</th>\n",
       "      <th>swimming</th>\n",
       "      <th>...</th>\n",
       "      <th>blonde</th>\n",
       "      <th>mall</th>\n",
       "      <th>shopping</th>\n",
       "      <th>clothes</th>\n",
       "      <th>hollister</th>\n",
       "      <th>abercrombie</th>\n",
       "      <th>die</th>\n",
       "      <th>death</th>\n",
       "      <th>drunk</th>\n",
       "      <th>drugs</th>\n",
       "    </tr>\n",
       "  </thead>\n",
       "  <tbody>\n",
       "    <tr>\n",
       "      <th>0</th>\n",
       "      <td>2007</td>\n",
       "      <td>not disclosed</td>\n",
       "      <td>18.400134</td>\n",
       "      <td>0</td>\n",
       "      <td>0</td>\n",
       "      <td>0</td>\n",
       "      <td>0</td>\n",
       "      <td>0</td>\n",
       "      <td>0</td>\n",
       "      <td>0</td>\n",
       "      <td>...</td>\n",
       "      <td>0</td>\n",
       "      <td>0</td>\n",
       "      <td>0</td>\n",
       "      <td>0</td>\n",
       "      <td>0</td>\n",
       "      <td>0</td>\n",
       "      <td>0</td>\n",
       "      <td>0</td>\n",
       "      <td>0</td>\n",
       "      <td>0</td>\n",
       "    </tr>\n",
       "    <tr>\n",
       "      <th>1</th>\n",
       "      <td>2007</td>\n",
       "      <td>F</td>\n",
       "      <td>17.410000</td>\n",
       "      <td>49</td>\n",
       "      <td>0</td>\n",
       "      <td>0</td>\n",
       "      <td>1</td>\n",
       "      <td>0</td>\n",
       "      <td>0</td>\n",
       "      <td>1</td>\n",
       "      <td>...</td>\n",
       "      <td>0</td>\n",
       "      <td>0</td>\n",
       "      <td>0</td>\n",
       "      <td>0</td>\n",
       "      <td>0</td>\n",
       "      <td>0</td>\n",
       "      <td>0</td>\n",
       "      <td>0</td>\n",
       "      <td>1</td>\n",
       "      <td>0</td>\n",
       "    </tr>\n",
       "    <tr>\n",
       "      <th>2</th>\n",
       "      <td>2007</td>\n",
       "      <td>F</td>\n",
       "      <td>17.511000</td>\n",
       "      <td>41</td>\n",
       "      <td>0</td>\n",
       "      <td>0</td>\n",
       "      <td>0</td>\n",
       "      <td>0</td>\n",
       "      <td>0</td>\n",
       "      <td>0</td>\n",
       "      <td>...</td>\n",
       "      <td>0</td>\n",
       "      <td>1</td>\n",
       "      <td>0</td>\n",
       "      <td>0</td>\n",
       "      <td>0</td>\n",
       "      <td>0</td>\n",
       "      <td>0</td>\n",
       "      <td>0</td>\n",
       "      <td>1</td>\n",
       "      <td>1</td>\n",
       "    </tr>\n",
       "    <tr>\n",
       "      <th>3</th>\n",
       "      <td>2006</td>\n",
       "      <td>F</td>\n",
       "      <td>19.010786</td>\n",
       "      <td>36</td>\n",
       "      <td>0</td>\n",
       "      <td>0</td>\n",
       "      <td>0</td>\n",
       "      <td>0</td>\n",
       "      <td>0</td>\n",
       "      <td>0</td>\n",
       "      <td>...</td>\n",
       "      <td>0</td>\n",
       "      <td>0</td>\n",
       "      <td>0</td>\n",
       "      <td>0</td>\n",
       "      <td>0</td>\n",
       "      <td>0</td>\n",
       "      <td>0</td>\n",
       "      <td>0</td>\n",
       "      <td>0</td>\n",
       "      <td>0</td>\n",
       "    </tr>\n",
       "    <tr>\n",
       "      <th>4</th>\n",
       "      <td>2008</td>\n",
       "      <td>F</td>\n",
       "      <td>16.657000</td>\n",
       "      <td>1</td>\n",
       "      <td>0</td>\n",
       "      <td>0</td>\n",
       "      <td>0</td>\n",
       "      <td>0</td>\n",
       "      <td>0</td>\n",
       "      <td>1</td>\n",
       "      <td>...</td>\n",
       "      <td>0</td>\n",
       "      <td>0</td>\n",
       "      <td>0</td>\n",
       "      <td>3</td>\n",
       "      <td>0</td>\n",
       "      <td>0</td>\n",
       "      <td>0</td>\n",
       "      <td>0</td>\n",
       "      <td>0</td>\n",
       "      <td>0</td>\n",
       "    </tr>\n",
       "  </tbody>\n",
       "</table>\n",
       "<p>5 rows × 40 columns</p>\n",
       "</div>"
      ],
      "text/plain": [
       "   gradyear         gender        age  NumberOffriends  basketball  football  \\\n",
       "0      2007  not disclosed  18.400134                0           0         0   \n",
       "1      2007              F  17.410000               49           0         0   \n",
       "2      2007              F  17.511000               41           0         0   \n",
       "3      2006              F  19.010786               36           0         0   \n",
       "4      2008              F  16.657000                1           0         0   \n",
       "\n",
       "   soccer  softball  volleyball  swimming  ...  blonde  mall  shopping  \\\n",
       "0       0         0           0         0  ...       0     0         0   \n",
       "1       1         0           0         1  ...       0     0         0   \n",
       "2       0         0           0         0  ...       0     1         0   \n",
       "3       0         0           0         0  ...       0     0         0   \n",
       "4       0         0           0         1  ...       0     0         0   \n",
       "\n",
       "   clothes  hollister  abercrombie  die  death  drunk  drugs  \n",
       "0        0          0            0    0      0      0      0  \n",
       "1        0          0            0    0      0      1      0  \n",
       "2        0          0            0    0      0      1      1  \n",
       "3        0          0            0    0      0      0      0  \n",
       "4        3          0            0    0      0      0      0  \n",
       "\n",
       "[5 rows x 40 columns]"
      ]
     },
     "execution_count": 21,
     "metadata": {},
     "output_type": "execute_result"
    }
   ],
   "source": [
    "df = df.drop_duplicates()\n",
    "df.head()"
   ]
  },
  {
   "cell_type": "markdown",
   "metadata": {},
   "source": [
    "Menghapus Duplicate yang mengganggu"
   ]
  },
  {
   "cell_type": "code",
   "execution_count": 22,
   "metadata": {},
   "outputs": [
    {
     "data": {
      "text/plain": [
       "14720"
      ]
     },
     "execution_count": 22,
     "metadata": {},
     "output_type": "execute_result"
    }
   ],
   "source": [
    "len(df)"
   ]
  },
  {
   "cell_type": "code",
   "execution_count": 23,
   "metadata": {},
   "outputs": [
    {
     "data": {
      "text/plain": [
       "0"
      ]
     },
     "execution_count": 23,
     "metadata": {},
     "output_type": "execute_result"
    }
   ],
   "source": [
    "df.duplicated().sum()"
   ]
  },
  {
   "cell_type": "code",
   "execution_count": 73,
   "metadata": {},
   "outputs": [
    {
     "data": {
      "image/png": "[encoded data removed]",
      "text/plain": [
       "<Figure size 1800x600 with 1 Axes>"
      ]
     },
     "metadata": {},
     "output_type": "display_data"
    }
   ],
   "source": [
    "# Set the style\n",
    "sns.set_style(\"whitegrid\")\n",
    "\n",
    "# Visualize the distribution of the number of friends\n",
    "plt.figure(figsize=(18, 6))\n",
    "sns.histplot(data=df, x='NumberOffriends', bins=30, kde=True, color='skyblue', edgecolor='black')\n",
    "plt.title('Distribution of Number of Friends', fontsize=16)\n",
    "plt.xlabel('Number of Friends', fontsize=14)\n",
    "plt.ylabel('Count', fontsize=14)\n",
    "plt.show()"
   ]
  },
  {
   "cell_type": "code",
   "execution_count": 74,
   "metadata": {},
   "outputs": [
    {
     "data": {
      "image/png": "[encoded data removed]",
      "text/plain": [
       "<Figure size 1800x600 with 1 Axes>"
      ]
     },
     "metadata": {},
     "output_type": "display_data"
    }
   ],
   "source": [
    "plt.figure(figsize=(18, 6))\n",
    "sns.countplot(data=df, x='drugs')\n",
    "plt.title('Distribution of Drug Users')\n",
    "plt.xlabel('Drug User')\n",
    "plt.ylabel('Count')\n",
    "plt.show()"
   ]
  },
  {
   "cell_type": "code",
   "execution_count": 69,
   "metadata": {},
   "outputs": [
    {
     "name": "stderr",
     "output_type": "stream",
     "text": [
      "C:\\Users\\FADHIL\\AppData\\Local\\Temp\\ipykernel_50900\\885691335.py:4: FutureWarning: \n",
      "\n",
      "Passing `palette` without assigning `hue` is deprecated and will be removed in v0.14.0. Assign the `y` variable to `hue` and set `legend=False` for the same effect.\n",
      "\n",
      "  sns.barplot(x=interests.values, y=interests.index, palette='viridis')\n"
     ]
    },
    {
     "data": {
      "image/png": "[encoded data removed]",
      "text/plain": [
       "<Figure size 1200x800 with 1 Axes>"
      ]
     },
     "metadata": {},
     "output_type": "display_data"
    }
   ],
   "source": [
    "interests = df.iloc[:, 4:-6].sum().sort_values(ascending=False)\n",
    "\n",
    "plt.figure(figsize=(12, 8))\n",
    "sns.barplot(x=interests.values, y=interests.index, palette='viridis')\n",
    "plt.title('Interest Distribution', fontsize=16)\n",
    "plt.xlabel('Count', fontsize=14)\n",
    "plt.ylabel('Interest', fontsize=14)\n",
    "plt.xticks(fontsize=12)\n",
    "plt.yticks(fontsize=12)\n",
    "plt.grid(axis='x', linestyle='--', alpha=0.7)\n",
    "plt.show()"
   ]
  },
  {
   "cell_type": "code",
   "execution_count": 71,
   "metadata": {},
   "outputs": [
    {
     "data": {
      "image/png": "[encoded data removed]",
      "text/plain": [
       "<Figure size 1800x600 with 1 Axes>"
      ]
     },
     "metadata": {},
     "output_type": "display_data"
    }
   ],
   "source": [
    "plt.figure(figsize=(18, 6))\n",
    "sns.countplot(data=data, x='gender')\n",
    "plt.title('Distribution of Gender')\n",
    "plt.xlabel('Gender')\n",
    "plt.ylabel('Count')\n",
    "plt.show()"
   ]
  },
  {
   "cell_type": "code",
   "execution_count": 72,
   "metadata": {},
   "outputs": [
    {
     "data": {
      "image/png": "[encoded data removed]",
      "text/plain": [
       "<Figure size 1800x600 with 1 Axes>"
      ]
     },
     "metadata": {},
     "output_type": "display_data"
    }
   ],
   "source": [
    "plt.figure(figsize=(18, 6))\n",
    "sns.histplot(data=df, x='gradyear', bins=20, kde=True)\n",
    "plt.title('Distribution of Graduation Year')\n",
    "plt.xlabel('Graduation Year')\n",
    "plt.ylabel('Count')\n",
    "plt.show()"
   ]
  },
  {
   "cell_type": "code",
   "execution_count": 75,
   "metadata": {},
   "outputs": [
    {
     "data": {
      "image/png": "[encoded data removed]",
      "text/plain": [
       "<Figure size 1800x600 with 1 Axes>"
      ]
     },
     "metadata": {},
     "output_type": "display_data"
    }
   ],
   "source": [
    "religious_interests = df[['god', 'church', 'jesus', 'bible']].sum()\n",
    "\n",
    "plt.figure(figsize=(18, 6))\n",
    "plt.bar(religious_interests.index, religious_interests.values, color='lightblue')\n",
    "plt.title('Distribution of Religious Interests', fontsize=16)\n",
    "plt.xlabel('Interest', fontsize=14)\n",
    "plt.ylabel('Count', fontsize=14)\n",
    "plt.xticks(fontsize=12)\n",
    "plt.yticks(fontsize=12)\n",
    "plt.grid(axis='y', linestyle='--', alpha=0.7)\n",
    "plt.show()"
   ]
  },
  {
   "cell_type": "markdown",
   "metadata": {},
   "source": [
    "## Feature Engineering"
   ]
  },
  {
   "cell_type": "markdown",
   "metadata": {},
   "source": [
    "detect the outliers using a box plot below"
   ]
  },
  {
   "cell_type": "code",
   "execution_count": 66,
   "metadata": {},
   "outputs": [
    {
     "data": {
      "image/png": "[encoded data removed]",
      "text/plain": [
       "<Figure size 1000x600 with 1 Axes>"
      ]
     },
     "metadata": {},
     "output_type": "display_data"
    }
   ],
   "source": [
    "sns.set(style=\"whitegrid\") \n",
    "\n",
    "plt.figure(figsize=(10, 6))  \n",
    "\n",
    "sns.boxplot(x=data['age'], color='red')\n",
    "\n",
    "plt.xlabel('Age', fontsize=14)\n",
    "plt.title('Boxplot of Age', fontsize=16)\n",
    "\n",
    "# Show the plot\n",
    "plt.show()"
   ]
  },
  {
   "cell_type": "code",
   "execution_count": 27,
   "metadata": {},
   "outputs": [
    {
     "name": "stdout",
     "output_type": "stream",
     "text": [
      "1.880134201954398\n"
     ]
    }
   ],
   "source": [
    "q1 = df['age'].quantile(0.25)\n",
    "q3 = df['age'].quantile(0.75)\n",
    "iqr = q3-q1\n",
    "print(iqr)"
   ]
  },
  {
   "cell_type": "code",
   "execution_count": 28,
   "metadata": {},
   "outputs": [],
   "source": [
    "df1 = df[(df['age'] > (q1 - 1.5*iqr)) & (df['age'] < (q3 + 1.5*iqr))]"
   ]
  },
  {
   "cell_type": "markdown",
   "metadata": {},
   "source": [
    "dikalikan dengan 1.5 adalah karena ini adalah aturan yang sering digunakan dalam statistik untuk mendeteksi nilai-nilai yang jauh dari distribusi normal. Nilai yang berada di luar rentang ini dianggap outliers karena terlalu jauh dari data utama, sehingga memerlukan perhatian khusus.\n",
    "\n",
    "Jadi, dengan menggunakan faktor 1.5, kita bisa menyaring data yang secara signifikan lebih rendah atau lebih tinggi daripada sebagian besar data lainnya."
   ]
  },
  {
   "cell_type": "code",
   "execution_count": 29,
   "metadata": {},
   "outputs": [
    {
     "data": {
      "text/plain": [
       "count    14545.000000\n",
       "mean        17.377536\n",
       "std          1.134909\n",
       "min         13.719000\n",
       "25%         16.517000\n",
       "50%         17.421000\n",
       "75%         18.385000\n",
       "max         21.065000\n",
       "Name: age, dtype: float64"
      ]
     },
     "execution_count": 29,
     "metadata": {},
     "output_type": "execute_result"
    }
   ],
   "source": [
    "df1['age'].describe()"
   ]
  },
  {
   "cell_type": "markdown",
   "metadata": {},
   "source": [
    "Dari ringkasan di atas, kita bisa lihat bahwa setelah menangani data outlier, usia minimum adalah 13,719 tahun dan usia maksimum adalah 21,065 tahun."
   ]
  },
  {
   "cell_type": "code",
   "execution_count": 30,
   "metadata": {},
   "outputs": [
    {
     "data": {
      "text/plain": [
       "(14545, 40)"
      ]
     },
     "execution_count": 30,
     "metadata": {},
     "output_type": "execute_result"
    }
   ],
   "source": [
    "df1.shape"
   ]
  },
  {
   "cell_type": "code",
   "execution_count": 35,
   "metadata": {},
   "outputs": [
    {
     "data": {
      "image/png": "[encoded data removed]",
      "text/plain": [
       "<Figure size 640x480 with 1 Axes>"
      ]
     },
     "metadata": {},
     "output_type": "display_data"
    }
   ],
   "source": [
    "sns.boxplot(df1[\"age\"])\n",
    "plt.show()"
   ]
  },
  {
   "cell_type": "markdown",
   "metadata": {},
   "source": [
    "From the above boxplot we observe that there are no outliers in the age column"
   ]
  },
  {
   "cell_type": "code",
   "execution_count": 31,
   "metadata": {},
   "outputs": [
    {
     "data": {
      "text/plain": [
       "Index(['basketball', 'football', 'soccer', 'softball', 'volleyball',\n",
       "       'swimming', 'cheerleading', 'baseball', 'tennis', 'sports', 'cute',\n",
       "       'sex', 'sexy', 'hot', 'kissed', 'dance', 'band', 'marching', 'music',\n",
       "       'rock', 'god', 'church', 'jesus', 'bible', 'hair', 'dress', 'blonde',\n",
       "       'mall', 'shopping', 'clothes', 'hollister', 'abercrombie', 'die',\n",
       "       'death', 'drunk', 'drugs'],\n",
       "      dtype='object')"
      ]
     },
     "execution_count": 31,
     "metadata": {},
     "output_type": "execute_result"
    }
   ],
   "source": [
    "names = df1.columns[4:40]\n",
    "scaled_feature = df.copy()\n",
    "names"
   ]
  },
  {
   "cell_type": "code",
   "execution_count": 32,
   "metadata": {},
   "outputs": [
    {
     "data": {
      "text/html": [
       "<div>\n",
       "<style scoped>\n",
       "    .dataframe tbody tr th:only-of-type {\n",
       "        vertical-align: middle;\n",
       "    }\n",
       "\n",
       "    .dataframe tbody tr th {\n",
       "        vertical-align: top;\n",
       "    }\n",
       "\n",
       "    .dataframe thead th {\n",
       "        text-align: right;\n",
       "    }\n",
       "</style>\n",
       "<table border=\"1\" class=\"dataframe\">\n",
       "  <thead>\n",
       "    <tr style=\"text-align: right;\">\n",
       "      <th></th>\n",
       "      <th>gradyear</th>\n",
       "      <th>gender</th>\n",
       "      <th>age</th>\n",
       "      <th>NumberOffriends</th>\n",
       "      <th>basketball</th>\n",
       "      <th>football</th>\n",
       "      <th>soccer</th>\n",
       "      <th>softball</th>\n",
       "      <th>volleyball</th>\n",
       "      <th>swimming</th>\n",
       "      <th>...</th>\n",
       "      <th>blonde</th>\n",
       "      <th>mall</th>\n",
       "      <th>shopping</th>\n",
       "      <th>clothes</th>\n",
       "      <th>hollister</th>\n",
       "      <th>abercrombie</th>\n",
       "      <th>die</th>\n",
       "      <th>death</th>\n",
       "      <th>drunk</th>\n",
       "      <th>drugs</th>\n",
       "    </tr>\n",
       "  </thead>\n",
       "  <tbody>\n",
       "    <tr>\n",
       "      <th>0</th>\n",
       "      <td>2007</td>\n",
       "      <td>not disclosed</td>\n",
       "      <td>18.400134</td>\n",
       "      <td>0</td>\n",
       "      <td>0</td>\n",
       "      <td>0</td>\n",
       "      <td>0</td>\n",
       "      <td>0</td>\n",
       "      <td>0</td>\n",
       "      <td>0</td>\n",
       "      <td>...</td>\n",
       "      <td>0</td>\n",
       "      <td>0</td>\n",
       "      <td>0</td>\n",
       "      <td>0</td>\n",
       "      <td>0</td>\n",
       "      <td>0</td>\n",
       "      <td>0</td>\n",
       "      <td>0</td>\n",
       "      <td>0</td>\n",
       "      <td>0</td>\n",
       "    </tr>\n",
       "    <tr>\n",
       "      <th>1</th>\n",
       "      <td>2007</td>\n",
       "      <td>F</td>\n",
       "      <td>17.410000</td>\n",
       "      <td>49</td>\n",
       "      <td>0</td>\n",
       "      <td>0</td>\n",
       "      <td>1</td>\n",
       "      <td>0</td>\n",
       "      <td>0</td>\n",
       "      <td>1</td>\n",
       "      <td>...</td>\n",
       "      <td>0</td>\n",
       "      <td>0</td>\n",
       "      <td>0</td>\n",
       "      <td>0</td>\n",
       "      <td>0</td>\n",
       "      <td>0</td>\n",
       "      <td>0</td>\n",
       "      <td>0</td>\n",
       "      <td>1</td>\n",
       "      <td>0</td>\n",
       "    </tr>\n",
       "    <tr>\n",
       "      <th>2</th>\n",
       "      <td>2007</td>\n",
       "      <td>F</td>\n",
       "      <td>17.511000</td>\n",
       "      <td>41</td>\n",
       "      <td>0</td>\n",
       "      <td>0</td>\n",
       "      <td>0</td>\n",
       "      <td>0</td>\n",
       "      <td>0</td>\n",
       "      <td>0</td>\n",
       "      <td>...</td>\n",
       "      <td>0</td>\n",
       "      <td>1</td>\n",
       "      <td>0</td>\n",
       "      <td>0</td>\n",
       "      <td>0</td>\n",
       "      <td>0</td>\n",
       "      <td>0</td>\n",
       "      <td>0</td>\n",
       "      <td>1</td>\n",
       "      <td>1</td>\n",
       "    </tr>\n",
       "    <tr>\n",
       "      <th>3</th>\n",
       "      <td>2006</td>\n",
       "      <td>F</td>\n",
       "      <td>19.010786</td>\n",
       "      <td>36</td>\n",
       "      <td>0</td>\n",
       "      <td>0</td>\n",
       "      <td>0</td>\n",
       "      <td>0</td>\n",
       "      <td>0</td>\n",
       "      <td>0</td>\n",
       "      <td>...</td>\n",
       "      <td>0</td>\n",
       "      <td>0</td>\n",
       "      <td>0</td>\n",
       "      <td>0</td>\n",
       "      <td>0</td>\n",
       "      <td>0</td>\n",
       "      <td>0</td>\n",
       "      <td>0</td>\n",
       "      <td>0</td>\n",
       "      <td>0</td>\n",
       "    </tr>\n",
       "    <tr>\n",
       "      <th>4</th>\n",
       "      <td>2008</td>\n",
       "      <td>F</td>\n",
       "      <td>16.657000</td>\n",
       "      <td>1</td>\n",
       "      <td>0</td>\n",
       "      <td>0</td>\n",
       "      <td>0</td>\n",
       "      <td>0</td>\n",
       "      <td>0</td>\n",
       "      <td>1</td>\n",
       "      <td>...</td>\n",
       "      <td>0</td>\n",
       "      <td>0</td>\n",
       "      <td>0</td>\n",
       "      <td>3</td>\n",
       "      <td>0</td>\n",
       "      <td>0</td>\n",
       "      <td>0</td>\n",
       "      <td>0</td>\n",
       "      <td>0</td>\n",
       "      <td>0</td>\n",
       "    </tr>\n",
       "  </tbody>\n",
       "</table>\n",
       "<p>5 rows × 40 columns</p>\n",
       "</div>"
      ],
      "text/plain": [
       "   gradyear         gender        age  NumberOffriends  basketball  football  \\\n",
       "0      2007  not disclosed  18.400134                0           0         0   \n",
       "1      2007              F  17.410000               49           0         0   \n",
       "2      2007              F  17.511000               41           0         0   \n",
       "3      2006              F  19.010786               36           0         0   \n",
       "4      2008              F  16.657000                1           0         0   \n",
       "\n",
       "   soccer  softball  volleyball  swimming  ...  blonde  mall  shopping  \\\n",
       "0       0         0           0         0  ...       0     0         0   \n",
       "1       1         0           0         1  ...       0     0         0   \n",
       "2       0         0           0         0  ...       0     1         0   \n",
       "3       0         0           0         0  ...       0     0         0   \n",
       "4       0         0           0         1  ...       0     0         0   \n",
       "\n",
       "   clothes  hollister  abercrombie  die  death  drunk  drugs  \n",
       "0        0          0            0    0      0      0      0  \n",
       "1        0          0            0    0      0      1      0  \n",
       "2        0          0            0    0      0      1      1  \n",
       "3        0          0            0    0      0      0      0  \n",
       "4        3          0            0    0      0      0      0  \n",
       "\n",
       "[5 rows x 40 columns]"
      ]
     },
     "execution_count": 32,
     "metadata": {},
     "output_type": "execute_result"
    }
   ],
   "source": [
    "scaled_feature.head()"
   ]
  },
  {
   "cell_type": "code",
   "execution_count": 33,
   "metadata": {},
   "outputs": [],
   "source": [
    "features = scaled_feature[names]"
   ]
  },
  {
   "cell_type": "code",
   "execution_count": 34,
   "metadata": {},
   "outputs": [
    {
     "data": {
      "text/html": [
       "<div>\n",
       "<style scoped>\n",
       "    .dataframe tbody tr th:only-of-type {\n",
       "        vertical-align: middle;\n",
       "    }\n",
       "\n",
       "    .dataframe tbody tr th {\n",
       "        vertical-align: top;\n",
       "    }\n",
       "\n",
       "    .dataframe thead th {\n",
       "        text-align: right;\n",
       "    }\n",
       "</style>\n",
       "<table border=\"1\" class=\"dataframe\">\n",
       "  <thead>\n",
       "    <tr style=\"text-align: right;\">\n",
       "      <th></th>\n",
       "      <th>basketball</th>\n",
       "      <th>football</th>\n",
       "      <th>soccer</th>\n",
       "      <th>softball</th>\n",
       "      <th>volleyball</th>\n",
       "      <th>swimming</th>\n",
       "      <th>cheerleading</th>\n",
       "      <th>baseball</th>\n",
       "      <th>tennis</th>\n",
       "      <th>sports</th>\n",
       "      <th>...</th>\n",
       "      <th>blonde</th>\n",
       "      <th>mall</th>\n",
       "      <th>shopping</th>\n",
       "      <th>clothes</th>\n",
       "      <th>hollister</th>\n",
       "      <th>abercrombie</th>\n",
       "      <th>die</th>\n",
       "      <th>death</th>\n",
       "      <th>drunk</th>\n",
       "      <th>drugs</th>\n",
       "    </tr>\n",
       "  </thead>\n",
       "  <tbody>\n",
       "    <tr>\n",
       "      <th>0</th>\n",
       "      <td>0</td>\n",
       "      <td>0</td>\n",
       "      <td>0</td>\n",
       "      <td>0</td>\n",
       "      <td>0</td>\n",
       "      <td>0</td>\n",
       "      <td>0</td>\n",
       "      <td>0</td>\n",
       "      <td>0</td>\n",
       "      <td>0</td>\n",
       "      <td>...</td>\n",
       "      <td>0</td>\n",
       "      <td>0</td>\n",
       "      <td>0</td>\n",
       "      <td>0</td>\n",
       "      <td>0</td>\n",
       "      <td>0</td>\n",
       "      <td>0</td>\n",
       "      <td>0</td>\n",
       "      <td>0</td>\n",
       "      <td>0</td>\n",
       "    </tr>\n",
       "    <tr>\n",
       "      <th>1</th>\n",
       "      <td>0</td>\n",
       "      <td>0</td>\n",
       "      <td>1</td>\n",
       "      <td>0</td>\n",
       "      <td>0</td>\n",
       "      <td>1</td>\n",
       "      <td>0</td>\n",
       "      <td>0</td>\n",
       "      <td>0</td>\n",
       "      <td>0</td>\n",
       "      <td>...</td>\n",
       "      <td>0</td>\n",
       "      <td>0</td>\n",
       "      <td>0</td>\n",
       "      <td>0</td>\n",
       "      <td>0</td>\n",
       "      <td>0</td>\n",
       "      <td>0</td>\n",
       "      <td>0</td>\n",
       "      <td>1</td>\n",
       "      <td>0</td>\n",
       "    </tr>\n",
       "    <tr>\n",
       "      <th>2</th>\n",
       "      <td>0</td>\n",
       "      <td>0</td>\n",
       "      <td>0</td>\n",
       "      <td>0</td>\n",
       "      <td>0</td>\n",
       "      <td>0</td>\n",
       "      <td>0</td>\n",
       "      <td>1</td>\n",
       "      <td>0</td>\n",
       "      <td>0</td>\n",
       "      <td>...</td>\n",
       "      <td>0</td>\n",
       "      <td>1</td>\n",
       "      <td>0</td>\n",
       "      <td>0</td>\n",
       "      <td>0</td>\n",
       "      <td>0</td>\n",
       "      <td>0</td>\n",
       "      <td>0</td>\n",
       "      <td>1</td>\n",
       "      <td>1</td>\n",
       "    </tr>\n",
       "    <tr>\n",
       "      <th>3</th>\n",
       "      <td>0</td>\n",
       "      <td>0</td>\n",
       "      <td>0</td>\n",
       "      <td>0</td>\n",
       "      <td>0</td>\n",
       "      <td>0</td>\n",
       "      <td>0</td>\n",
       "      <td>0</td>\n",
       "      <td>0</td>\n",
       "      <td>0</td>\n",
       "      <td>...</td>\n",
       "      <td>0</td>\n",
       "      <td>0</td>\n",
       "      <td>0</td>\n",
       "      <td>0</td>\n",
       "      <td>0</td>\n",
       "      <td>0</td>\n",
       "      <td>0</td>\n",
       "      <td>0</td>\n",
       "      <td>0</td>\n",
       "      <td>0</td>\n",
       "    </tr>\n",
       "    <tr>\n",
       "      <th>4</th>\n",
       "      <td>0</td>\n",
       "      <td>0</td>\n",
       "      <td>0</td>\n",
       "      <td>0</td>\n",
       "      <td>0</td>\n",
       "      <td>1</td>\n",
       "      <td>0</td>\n",
       "      <td>0</td>\n",
       "      <td>3</td>\n",
       "      <td>0</td>\n",
       "      <td>...</td>\n",
       "      <td>0</td>\n",
       "      <td>0</td>\n",
       "      <td>0</td>\n",
       "      <td>3</td>\n",
       "      <td>0</td>\n",
       "      <td>0</td>\n",
       "      <td>0</td>\n",
       "      <td>0</td>\n",
       "      <td>0</td>\n",
       "      <td>0</td>\n",
       "    </tr>\n",
       "  </tbody>\n",
       "</table>\n",
       "<p>5 rows × 36 columns</p>\n",
       "</div>"
      ],
      "text/plain": [
       "   basketball  football  soccer  softball  volleyball  swimming  cheerleading  \\\n",
       "0           0         0       0         0           0         0             0   \n",
       "1           0         0       1         0           0         1             0   \n",
       "2           0         0       0         0           0         0             0   \n",
       "3           0         0       0         0           0         0             0   \n",
       "4           0         0       0         0           0         1             0   \n",
       "\n",
       "   baseball  tennis  sports  ...  blonde  mall  shopping  clothes  hollister  \\\n",
       "0         0       0       0  ...       0     0         0        0          0   \n",
       "1         0       0       0  ...       0     0         0        0          0   \n",
       "2         1       0       0  ...       0     1         0        0          0   \n",
       "3         0       0       0  ...       0     0         0        0          0   \n",
       "4         0       3       0  ...       0     0         0        3          0   \n",
       "\n",
       "   abercrombie  die  death  drunk  drugs  \n",
       "0            0    0      0      0      0  \n",
       "1            0    0      0      1      0  \n",
       "2            0    0      0      1      1  \n",
       "3            0    0      0      0      0  \n",
       "4            0    0      0      0      0  \n",
       "\n",
       "[5 rows x 36 columns]"
      ]
     },
     "execution_count": 34,
     "metadata": {},
     "output_type": "execute_result"
    }
   ],
   "source": [
    "features.head()"
   ]
  },
  {
   "cell_type": "code",
   "execution_count": 36,
   "metadata": {},
   "outputs": [],
   "source": [
    "from sklearn.preprocessing import StandardScaler\n",
    "scaler = StandardScaler().fit(features.values)"
   ]
  },
  {
   "cell_type": "code",
   "execution_count": 37,
   "metadata": {},
   "outputs": [],
   "source": [
    "features = scaler.transform(features.values)"
   ]
  },
  {
   "cell_type": "code",
   "execution_count": 38,
   "metadata": {},
   "outputs": [
    {
     "data": {
      "text/html": [
       "<div>\n",
       "<style scoped>\n",
       "    .dataframe tbody tr th:only-of-type {\n",
       "        vertical-align: middle;\n",
       "    }\n",
       "\n",
       "    .dataframe tbody tr th {\n",
       "        vertical-align: top;\n",
       "    }\n",
       "\n",
       "    .dataframe thead th {\n",
       "        text-align: right;\n",
       "    }\n",
       "</style>\n",
       "<table border=\"1\" class=\"dataframe\">\n",
       "  <thead>\n",
       "    <tr style=\"text-align: right;\">\n",
       "      <th></th>\n",
       "      <th>gradyear</th>\n",
       "      <th>gender</th>\n",
       "      <th>age</th>\n",
       "      <th>NumberOffriends</th>\n",
       "      <th>basketball</th>\n",
       "      <th>football</th>\n",
       "      <th>soccer</th>\n",
       "      <th>softball</th>\n",
       "      <th>volleyball</th>\n",
       "      <th>swimming</th>\n",
       "      <th>...</th>\n",
       "      <th>blonde</th>\n",
       "      <th>mall</th>\n",
       "      <th>shopping</th>\n",
       "      <th>clothes</th>\n",
       "      <th>hollister</th>\n",
       "      <th>abercrombie</th>\n",
       "      <th>die</th>\n",
       "      <th>death</th>\n",
       "      <th>drunk</th>\n",
       "      <th>drugs</th>\n",
       "    </tr>\n",
       "  </thead>\n",
       "  <tbody>\n",
       "    <tr>\n",
       "      <th>0</th>\n",
       "      <td>2007</td>\n",
       "      <td>not disclosed</td>\n",
       "      <td>18.400134</td>\n",
       "      <td>0</td>\n",
       "      <td>-0.341978</td>\n",
       "      <td>-0.367697</td>\n",
       "      <td>-0.243620</td>\n",
       "      <td>-0.218698</td>\n",
       "      <td>-0.226005</td>\n",
       "      <td>-0.248521</td>\n",
       "      <td>...</td>\n",
       "      <td>-0.042066</td>\n",
       "      <td>-0.372332</td>\n",
       "      <td>-0.496201</td>\n",
       "      <td>-0.317175</td>\n",
       "      <td>-0.203532</td>\n",
       "      <td>-0.185116</td>\n",
       "      <td>-0.307903</td>\n",
       "      <td>-0.261889</td>\n",
       "      <td>-0.220257</td>\n",
       "      <td>-0.176633</td>\n",
       "    </tr>\n",
       "    <tr>\n",
       "      <th>1</th>\n",
       "      <td>2007</td>\n",
       "      <td>F</td>\n",
       "      <td>17.410000</td>\n",
       "      <td>49</td>\n",
       "      <td>-0.341978</td>\n",
       "      <td>-0.367697</td>\n",
       "      <td>0.833284</td>\n",
       "      <td>-0.218698</td>\n",
       "      <td>-0.226005</td>\n",
       "      <td>1.558009</td>\n",
       "      <td>...</td>\n",
       "      <td>-0.042066</td>\n",
       "      <td>-0.372332</td>\n",
       "      <td>-0.496201</td>\n",
       "      <td>-0.317175</td>\n",
       "      <td>-0.203532</td>\n",
       "      <td>-0.185116</td>\n",
       "      <td>-0.307903</td>\n",
       "      <td>-0.261889</td>\n",
       "      <td>2.135977</td>\n",
       "      <td>-0.176633</td>\n",
       "    </tr>\n",
       "    <tr>\n",
       "      <th>2</th>\n",
       "      <td>2007</td>\n",
       "      <td>F</td>\n",
       "      <td>17.511000</td>\n",
       "      <td>41</td>\n",
       "      <td>-0.341978</td>\n",
       "      <td>-0.367697</td>\n",
       "      <td>-0.243620</td>\n",
       "      <td>-0.218698</td>\n",
       "      <td>-0.226005</td>\n",
       "      <td>-0.248521</td>\n",
       "      <td>...</td>\n",
       "      <td>-0.042066</td>\n",
       "      <td>1.035872</td>\n",
       "      <td>-0.496201</td>\n",
       "      <td>-0.317175</td>\n",
       "      <td>-0.203532</td>\n",
       "      <td>-0.185116</td>\n",
       "      <td>-0.307903</td>\n",
       "      <td>-0.261889</td>\n",
       "      <td>2.135977</td>\n",
       "      <td>2.661840</td>\n",
       "    </tr>\n",
       "    <tr>\n",
       "      <th>3</th>\n",
       "      <td>2006</td>\n",
       "      <td>F</td>\n",
       "      <td>19.010786</td>\n",
       "      <td>36</td>\n",
       "      <td>-0.341978</td>\n",
       "      <td>-0.367697</td>\n",
       "      <td>-0.243620</td>\n",
       "      <td>-0.218698</td>\n",
       "      <td>-0.226005</td>\n",
       "      <td>-0.248521</td>\n",
       "      <td>...</td>\n",
       "      <td>-0.042066</td>\n",
       "      <td>-0.372332</td>\n",
       "      <td>-0.496201</td>\n",
       "      <td>-0.317175</td>\n",
       "      <td>-0.203532</td>\n",
       "      <td>-0.185116</td>\n",
       "      <td>-0.307903</td>\n",
       "      <td>-0.261889</td>\n",
       "      <td>-0.220257</td>\n",
       "      <td>-0.176633</td>\n",
       "    </tr>\n",
       "    <tr>\n",
       "      <th>4</th>\n",
       "      <td>2008</td>\n",
       "      <td>F</td>\n",
       "      <td>16.657000</td>\n",
       "      <td>1</td>\n",
       "      <td>-0.341978</td>\n",
       "      <td>-0.367697</td>\n",
       "      <td>-0.243620</td>\n",
       "      <td>-0.218698</td>\n",
       "      <td>-0.226005</td>\n",
       "      <td>1.558009</td>\n",
       "      <td>...</td>\n",
       "      <td>-0.042066</td>\n",
       "      <td>-0.372332</td>\n",
       "      <td>-0.496201</td>\n",
       "      <td>5.896863</td>\n",
       "      <td>-0.203532</td>\n",
       "      <td>-0.185116</td>\n",
       "      <td>-0.307903</td>\n",
       "      <td>-0.261889</td>\n",
       "      <td>-0.220257</td>\n",
       "      <td>-0.176633</td>\n",
       "    </tr>\n",
       "  </tbody>\n",
       "</table>\n",
       "<p>5 rows × 40 columns</p>\n",
       "</div>"
      ],
      "text/plain": [
       "   gradyear         gender        age  NumberOffriends  basketball  football  \\\n",
       "0      2007  not disclosed  18.400134                0   -0.341978 -0.367697   \n",
       "1      2007              F  17.410000               49   -0.341978 -0.367697   \n",
       "2      2007              F  17.511000               41   -0.341978 -0.367697   \n",
       "3      2006              F  19.010786               36   -0.341978 -0.367697   \n",
       "4      2008              F  16.657000                1   -0.341978 -0.367697   \n",
       "\n",
       "     soccer  softball  volleyball  swimming  ...    blonde      mall  \\\n",
       "0 -0.243620 -0.218698   -0.226005 -0.248521  ... -0.042066 -0.372332   \n",
       "1  0.833284 -0.218698   -0.226005  1.558009  ... -0.042066 -0.372332   \n",
       "2 -0.243620 -0.218698   -0.226005 -0.248521  ... -0.042066  1.035872   \n",
       "3 -0.243620 -0.218698   -0.226005 -0.248521  ... -0.042066 -0.372332   \n",
       "4 -0.243620 -0.218698   -0.226005  1.558009  ... -0.042066 -0.372332   \n",
       "\n",
       "   shopping   clothes  hollister  abercrombie       die     death     drunk  \\\n",
       "0 -0.496201 -0.317175  -0.203532    -0.185116 -0.307903 -0.261889 -0.220257   \n",
       "1 -0.496201 -0.317175  -0.203532    -0.185116 -0.307903 -0.261889  2.135977   \n",
       "2 -0.496201 -0.317175  -0.203532    -0.185116 -0.307903 -0.261889  2.135977   \n",
       "3 -0.496201 -0.317175  -0.203532    -0.185116 -0.307903 -0.261889 -0.220257   \n",
       "4 -0.496201  5.896863  -0.203532    -0.185116 -0.307903 -0.261889 -0.220257   \n",
       "\n",
       "      drugs  \n",
       "0 -0.176633  \n",
       "1 -0.176633  \n",
       "2  2.661840  \n",
       "3 -0.176633  \n",
       "4 -0.176633  \n",
       "\n",
       "[5 rows x 40 columns]"
      ]
     },
     "execution_count": 38,
     "metadata": {},
     "output_type": "execute_result"
    }
   ],
   "source": [
    "scaled_feature[names] = features\n",
    "scaled_feature.head()"
   ]
  },
  {
   "cell_type": "markdown",
   "metadata": {},
   "source": [
    "Convert object variable to numeric"
   ]
  },
  {
   "cell_type": "code",
   "execution_count": 39,
   "metadata": {},
   "outputs": [],
   "source": [
    "def gender_to_numeric(x):\n",
    "    if x=='M':\n",
    "        return 1\n",
    "    if x=='F':\n",
    "        return 2\n",
    "    if x=='not disclosed':\n",
    "        return 3"
   ]
  },
  {
   "cell_type": "code",
   "execution_count": 40,
   "metadata": {},
   "outputs": [
    {
     "data": {
      "text/plain": [
       "0    3\n",
       "1    2\n",
       "2    2\n",
       "3    2\n",
       "4    2\n",
       "Name: gender, dtype: int64"
      ]
     },
     "execution_count": 40,
     "metadata": {},
     "output_type": "execute_result"
    }
   ],
   "source": [
    "scaled_feature['gender'] = scaled_feature['gender'].apply(gender_to_numeric)\n",
    "scaled_feature['gender'].head()"
   ]
  },
  {
   "cell_type": "markdown",
   "metadata": {},
   "source": [
    "Checking the transformed values"
   ]
  },
  {
   "cell_type": "code",
   "execution_count": 41,
   "metadata": {},
   "outputs": [
    {
     "data": {
      "text/html": [
       "<div>\n",
       "<style scoped>\n",
       "    .dataframe tbody tr th:only-of-type {\n",
       "        vertical-align: middle;\n",
       "    }\n",
       "\n",
       "    .dataframe tbody tr th {\n",
       "        vertical-align: top;\n",
       "    }\n",
       "\n",
       "    .dataframe thead th {\n",
       "        text-align: right;\n",
       "    }\n",
       "</style>\n",
       "<table border=\"1\" class=\"dataframe\">\n",
       "  <thead>\n",
       "    <tr style=\"text-align: right;\">\n",
       "      <th></th>\n",
       "      <th>gradyear</th>\n",
       "      <th>gender</th>\n",
       "      <th>age</th>\n",
       "      <th>NumberOffriends</th>\n",
       "      <th>basketball</th>\n",
       "      <th>football</th>\n",
       "      <th>soccer</th>\n",
       "      <th>softball</th>\n",
       "      <th>volleyball</th>\n",
       "      <th>swimming</th>\n",
       "      <th>...</th>\n",
       "      <th>blonde</th>\n",
       "      <th>mall</th>\n",
       "      <th>shopping</th>\n",
       "      <th>clothes</th>\n",
       "      <th>hollister</th>\n",
       "      <th>abercrombie</th>\n",
       "      <th>die</th>\n",
       "      <th>death</th>\n",
       "      <th>drunk</th>\n",
       "      <th>drugs</th>\n",
       "    </tr>\n",
       "  </thead>\n",
       "  <tbody>\n",
       "    <tr>\n",
       "      <th>0</th>\n",
       "      <td>2007</td>\n",
       "      <td>3</td>\n",
       "      <td>18.400134</td>\n",
       "      <td>0</td>\n",
       "      <td>-0.341978</td>\n",
       "      <td>-0.367697</td>\n",
       "      <td>-0.243620</td>\n",
       "      <td>-0.218698</td>\n",
       "      <td>-0.226005</td>\n",
       "      <td>-0.248521</td>\n",
       "      <td>...</td>\n",
       "      <td>-0.042066</td>\n",
       "      <td>-0.372332</td>\n",
       "      <td>-0.496201</td>\n",
       "      <td>-0.317175</td>\n",
       "      <td>-0.203532</td>\n",
       "      <td>-0.185116</td>\n",
       "      <td>-0.307903</td>\n",
       "      <td>-0.261889</td>\n",
       "      <td>-0.220257</td>\n",
       "      <td>-0.176633</td>\n",
       "    </tr>\n",
       "    <tr>\n",
       "      <th>1</th>\n",
       "      <td>2007</td>\n",
       "      <td>2</td>\n",
       "      <td>17.410000</td>\n",
       "      <td>49</td>\n",
       "      <td>-0.341978</td>\n",
       "      <td>-0.367697</td>\n",
       "      <td>0.833284</td>\n",
       "      <td>-0.218698</td>\n",
       "      <td>-0.226005</td>\n",
       "      <td>1.558009</td>\n",
       "      <td>...</td>\n",
       "      <td>-0.042066</td>\n",
       "      <td>-0.372332</td>\n",
       "      <td>-0.496201</td>\n",
       "      <td>-0.317175</td>\n",
       "      <td>-0.203532</td>\n",
       "      <td>-0.185116</td>\n",
       "      <td>-0.307903</td>\n",
       "      <td>-0.261889</td>\n",
       "      <td>2.135977</td>\n",
       "      <td>-0.176633</td>\n",
       "    </tr>\n",
       "    <tr>\n",
       "      <th>2</th>\n",
       "      <td>2007</td>\n",
       "      <td>2</td>\n",
       "      <td>17.511000</td>\n",
       "      <td>41</td>\n",
       "      <td>-0.341978</td>\n",
       "      <td>-0.367697</td>\n",
       "      <td>-0.243620</td>\n",
       "      <td>-0.218698</td>\n",
       "      <td>-0.226005</td>\n",
       "      <td>-0.248521</td>\n",
       "      <td>...</td>\n",
       "      <td>-0.042066</td>\n",
       "      <td>1.035872</td>\n",
       "      <td>-0.496201</td>\n",
       "      <td>-0.317175</td>\n",
       "      <td>-0.203532</td>\n",
       "      <td>-0.185116</td>\n",
       "      <td>-0.307903</td>\n",
       "      <td>-0.261889</td>\n",
       "      <td>2.135977</td>\n",
       "      <td>2.661840</td>\n",
       "    </tr>\n",
       "    <tr>\n",
       "      <th>3</th>\n",
       "      <td>2006</td>\n",
       "      <td>2</td>\n",
       "      <td>19.010786</td>\n",
       "      <td>36</td>\n",
       "      <td>-0.341978</td>\n",
       "      <td>-0.367697</td>\n",
       "      <td>-0.243620</td>\n",
       "      <td>-0.218698</td>\n",
       "      <td>-0.226005</td>\n",
       "      <td>-0.248521</td>\n",
       "      <td>...</td>\n",
       "      <td>-0.042066</td>\n",
       "      <td>-0.372332</td>\n",
       "      <td>-0.496201</td>\n",
       "      <td>-0.317175</td>\n",
       "      <td>-0.203532</td>\n",
       "      <td>-0.185116</td>\n",
       "      <td>-0.307903</td>\n",
       "      <td>-0.261889</td>\n",
       "      <td>-0.220257</td>\n",
       "      <td>-0.176633</td>\n",
       "    </tr>\n",
       "    <tr>\n",
       "      <th>4</th>\n",
       "      <td>2008</td>\n",
       "      <td>2</td>\n",
       "      <td>16.657000</td>\n",
       "      <td>1</td>\n",
       "      <td>-0.341978</td>\n",
       "      <td>-0.367697</td>\n",
       "      <td>-0.243620</td>\n",
       "      <td>-0.218698</td>\n",
       "      <td>-0.226005</td>\n",
       "      <td>1.558009</td>\n",
       "      <td>...</td>\n",
       "      <td>-0.042066</td>\n",
       "      <td>-0.372332</td>\n",
       "      <td>-0.496201</td>\n",
       "      <td>5.896863</td>\n",
       "      <td>-0.203532</td>\n",
       "      <td>-0.185116</td>\n",
       "      <td>-0.307903</td>\n",
       "      <td>-0.261889</td>\n",
       "      <td>-0.220257</td>\n",
       "      <td>-0.176633</td>\n",
       "    </tr>\n",
       "  </tbody>\n",
       "</table>\n",
       "<p>5 rows × 40 columns</p>\n",
       "</div>"
      ],
      "text/plain": [
       "   gradyear  gender        age  NumberOffriends  basketball  football  \\\n",
       "0      2007       3  18.400134                0   -0.341978 -0.367697   \n",
       "1      2007       2  17.410000               49   -0.341978 -0.367697   \n",
       "2      2007       2  17.511000               41   -0.341978 -0.367697   \n",
       "3      2006       2  19.010786               36   -0.341978 -0.367697   \n",
       "4      2008       2  16.657000                1   -0.341978 -0.367697   \n",
       "\n",
       "     soccer  softball  volleyball  swimming  ...    blonde      mall  \\\n",
       "0 -0.243620 -0.218698   -0.226005 -0.248521  ... -0.042066 -0.372332   \n",
       "1  0.833284 -0.218698   -0.226005  1.558009  ... -0.042066 -0.372332   \n",
       "2 -0.243620 -0.218698   -0.226005 -0.248521  ... -0.042066  1.035872   \n",
       "3 -0.243620 -0.218698   -0.226005 -0.248521  ... -0.042066 -0.372332   \n",
       "4 -0.243620 -0.218698   -0.226005  1.558009  ... -0.042066 -0.372332   \n",
       "\n",
       "   shopping   clothes  hollister  abercrombie       die     death     drunk  \\\n",
       "0 -0.496201 -0.317175  -0.203532    -0.185116 -0.307903 -0.261889 -0.220257   \n",
       "1 -0.496201 -0.317175  -0.203532    -0.185116 -0.307903 -0.261889  2.135977   \n",
       "2 -0.496201 -0.317175  -0.203532    -0.185116 -0.307903 -0.261889  2.135977   \n",
       "3 -0.496201 -0.317175  -0.203532    -0.185116 -0.307903 -0.261889 -0.220257   \n",
       "4 -0.496201  5.896863  -0.203532    -0.185116 -0.307903 -0.261889 -0.220257   \n",
       "\n",
       "      drugs  \n",
       "0 -0.176633  \n",
       "1 -0.176633  \n",
       "2  2.661840  \n",
       "3 -0.176633  \n",
       "4 -0.176633  \n",
       "\n",
       "[5 rows x 40 columns]"
      ]
     },
     "execution_count": 41,
     "metadata": {},
     "output_type": "execute_result"
    }
   ],
   "source": [
    "scaled_feature.head()"
   ]
  },
  {
   "cell_type": "code",
   "execution_count": 42,
   "metadata": {},
   "outputs": [],
   "source": [
    "from sklearn.cluster import KMeans\n",
    "kmeans = KMeans(n_clusters=5, random_state=0)"
   ]
  },
  {
   "cell_type": "code",
   "execution_count": 43,
   "metadata": {},
   "outputs": [
    {
     "name": "stderr",
     "output_type": "stream",
     "text": [
      "c:\\Users\\FADHIL\\AppData\\Local\\Programs\\Python\\Python38\\lib\\site-packages\\sklearn\\cluster\\_kmeans.py:1416: FutureWarning: The default value of `n_init` will change from 10 to 'auto' in 1.4. Set the value of `n_init` explicitly to suppress the warning\n",
      "  super()._check_params_vs_input(X, default_n_init=10)\n"
     ]
    }
   ],
   "source": [
    "model = kmeans.fit(scaled_feature)"
   ]
  },
  {
   "cell_type": "code",
   "execution_count": 44,
   "metadata": {},
   "outputs": [
    {
     "name": "stderr",
     "output_type": "stream",
     "text": [
      "c:\\Users\\FADHIL\\AppData\\Local\\Programs\\Python\\Python38\\lib\\site-packages\\sklearn\\cluster\\_kmeans.py:1416: FutureWarning: The default value of `n_init` will change from 10 to 'auto' in 1.4. Set the value of `n_init` explicitly to suppress the warning\n",
      "  super()._check_params_vs_input(X, default_n_init=10)\n",
      "c:\\Users\\FADHIL\\AppData\\Local\\Programs\\Python\\Python38\\lib\\site-packages\\sklearn\\cluster\\_kmeans.py:1416: FutureWarning: The default value of `n_init` will change from 10 to 'auto' in 1.4. Set the value of `n_init` explicitly to suppress the warning\n",
      "  super()._check_params_vs_input(X, default_n_init=10)\n",
      "c:\\Users\\FADHIL\\AppData\\Local\\Programs\\Python\\Python38\\lib\\site-packages\\sklearn\\cluster\\_kmeans.py:1416: FutureWarning: The default value of `n_init` will change from 10 to 'auto' in 1.4. Set the value of `n_init` explicitly to suppress the warning\n",
      "  super()._check_params_vs_input(X, default_n_init=10)\n",
      "c:\\Users\\FADHIL\\AppData\\Local\\Programs\\Python\\Python38\\lib\\site-packages\\sklearn\\cluster\\_kmeans.py:1416: FutureWarning: The default value of `n_init` will change from 10 to 'auto' in 1.4. Set the value of `n_init` explicitly to suppress the warning\n",
      "  super()._check_params_vs_input(X, default_n_init=10)\n",
      "c:\\Users\\FADHIL\\AppData\\Local\\Programs\\Python\\Python38\\lib\\site-packages\\sklearn\\cluster\\_kmeans.py:1416: FutureWarning: The default value of `n_init` will change from 10 to 'auto' in 1.4. Set the value of `n_init` explicitly to suppress the warning\n",
      "  super()._check_params_vs_input(X, default_n_init=10)\n",
      "c:\\Users\\FADHIL\\AppData\\Local\\Programs\\Python\\Python38\\lib\\site-packages\\sklearn\\cluster\\_kmeans.py:1416: FutureWarning: The default value of `n_init` will change from 10 to 'auto' in 1.4. Set the value of `n_init` explicitly to suppress the warning\n",
      "  super()._check_params_vs_input(X, default_n_init=10)\n",
      "c:\\Users\\FADHIL\\AppData\\Local\\Programs\\Python\\Python38\\lib\\site-packages\\sklearn\\cluster\\_kmeans.py:1416: FutureWarning: The default value of `n_init` will change from 10 to 'auto' in 1.4. Set the value of `n_init` explicitly to suppress the warning\n",
      "  super()._check_params_vs_input(X, default_n_init=10)\n",
      "c:\\Users\\FADHIL\\AppData\\Local\\Programs\\Python\\Python38\\lib\\site-packages\\sklearn\\cluster\\_kmeans.py:1416: FutureWarning: The default value of `n_init` will change from 10 to 'auto' in 1.4. Set the value of `n_init` explicitly to suppress the warning\n",
      "  super()._check_params_vs_input(X, default_n_init=10)\n",
      "c:\\Users\\FADHIL\\AppData\\Local\\Programs\\Python\\Python38\\lib\\site-packages\\sklearn\\cluster\\_kmeans.py:1416: FutureWarning: The default value of `n_init` will change from 10 to 'auto' in 1.4. Set the value of `n_init` explicitly to suppress the warning\n",
      "  super()._check_params_vs_input(X, default_n_init=10)\n",
      "c:\\Users\\FADHIL\\AppData\\Local\\Programs\\Python\\Python38\\lib\\site-packages\\sklearn\\cluster\\_kmeans.py:1416: FutureWarning: The default value of `n_init` will change from 10 to 'auto' in 1.4. Set the value of `n_init` explicitly to suppress the warning\n",
      "  super()._check_params_vs_input(X, default_n_init=10)\n",
      "c:\\Users\\FADHIL\\AppData\\Local\\Programs\\Python\\Python38\\lib\\site-packages\\sklearn\\cluster\\_kmeans.py:1416: FutureWarning: The default value of `n_init` will change from 10 to 'auto' in 1.4. Set the value of `n_init` explicitly to suppress the warning\n",
      "  super()._check_params_vs_input(X, default_n_init=10)\n",
      "c:\\Users\\FADHIL\\AppData\\Local\\Programs\\Python\\Python38\\lib\\site-packages\\sklearn\\cluster\\_kmeans.py:1416: FutureWarning: The default value of `n_init` will change from 10 to 'auto' in 1.4. Set the value of `n_init` explicitly to suppress the warning\n",
      "  super()._check_params_vs_input(X, default_n_init=10)\n",
      "c:\\Users\\FADHIL\\AppData\\Local\\Programs\\Python\\Python38\\lib\\site-packages\\sklearn\\cluster\\_kmeans.py:1416: FutureWarning: The default value of `n_init` will change from 10 to 'auto' in 1.4. Set the value of `n_init` explicitly to suppress the warning\n",
      "  super()._check_params_vs_input(X, default_n_init=10)\n",
      "c:\\Users\\FADHIL\\AppData\\Local\\Programs\\Python\\Python38\\lib\\site-packages\\sklearn\\cluster\\_kmeans.py:1416: FutureWarning: The default value of `n_init` will change from 10 to 'auto' in 1.4. Set the value of `n_init` explicitly to suppress the warning\n",
      "  super()._check_params_vs_input(X, default_n_init=10)\n",
      "c:\\Users\\FADHIL\\AppData\\Local\\Programs\\Python\\Python38\\lib\\site-packages\\sklearn\\cluster\\_kmeans.py:1416: FutureWarning: The default value of `n_init` will change from 10 to 'auto' in 1.4. Set the value of `n_init` explicitly to suppress the warning\n",
      "  super()._check_params_vs_input(X, default_n_init=10)\n",
      "c:\\Users\\FADHIL\\AppData\\Local\\Programs\\Python\\Python38\\lib\\site-packages\\sklearn\\cluster\\_kmeans.py:1416: FutureWarning: The default value of `n_init` will change from 10 to 'auto' in 1.4. Set the value of `n_init` explicitly to suppress the warning\n",
      "  super()._check_params_vs_input(X, default_n_init=10)\n",
      "c:\\Users\\FADHIL\\AppData\\Local\\Programs\\Python\\Python38\\lib\\site-packages\\sklearn\\cluster\\_kmeans.py:1416: FutureWarning: The default value of `n_init` will change from 10 to 'auto' in 1.4. Set the value of `n_init` explicitly to suppress the warning\n",
      "  super()._check_params_vs_input(X, default_n_init=10)\n",
      "c:\\Users\\FADHIL\\AppData\\Local\\Programs\\Python\\Python38\\lib\\site-packages\\sklearn\\cluster\\_kmeans.py:1416: FutureWarning: The default value of `n_init` will change from 10 to 'auto' in 1.4. Set the value of `n_init` explicitly to suppress the warning\n",
      "  super()._check_params_vs_input(X, default_n_init=10)\n",
      "c:\\Users\\FADHIL\\AppData\\Local\\Programs\\Python\\Python38\\lib\\site-packages\\sklearn\\cluster\\_kmeans.py:1416: FutureWarning: The default value of `n_init` will change from 10 to 'auto' in 1.4. Set the value of `n_init` explicitly to suppress the warning\n",
      "  super()._check_params_vs_input(X, default_n_init=10)\n"
     ]
    },
    {
     "data": {
      "image/png": "[encoded data removed]",
      "text/plain": [
       "<Figure size 640x480 with 1 Axes>"
      ]
     },
     "metadata": {},
     "output_type": "display_data"
    }
   ],
   "source": [
    "# Creating a function with KMeans to plot \"The Elbow Curve\"\n",
    "\n",
    "wcss = []\n",
    "for i in range(1,20):\n",
    "    kmeans = KMeans(n_clusters=i,init='k-means++' ,max_iter=300,random_state=0)\n",
    "    kmeans.fit(scaled_feature)\n",
    "    wcss.append(kmeans.inertia_)\n",
    "    \n",
    "plt.plot(range(1,20),wcss) \n",
    "plt.title('THe Elbow Curve')\n",
    "plt.xlabel('Number of Clusters')\n",
    "plt.ylabel(\"WCSS\") #WCSS stands for total within-cluster sum of sqaure\n",
    "plt.show()"
   ]
  },
  {
   "cell_type": "markdown",
   "metadata": {},
   "source": [
    "The location of a bend (knee) in the plot is generally considered as an indicator of the appropriate number of clusters. Our Elbow point is around cluster size of 5. We will use k=5 to further interpret our clustering result."
   ]
  },
  {
   "cell_type": "code",
   "execution_count": 45,
   "metadata": {},
   "outputs": [
    {
     "name": "stderr",
     "output_type": "stream",
     "text": [
      "c:\\Users\\FADHIL\\AppData\\Local\\Programs\\Python\\Python38\\lib\\site-packages\\sklearn\\cluster\\_kmeans.py:1416: FutureWarning: The default value of `n_init` will change from 10 to 'auto' in 1.4. Set the value of `n_init` explicitly to suppress the warning\n",
      "  super()._check_params_vs_input(X, default_n_init=10)\n"
     ]
    },
    {
     "data": {
      "text/html": [
       "<style>#sk-container-id-1 {color: black;}#sk-container-id-1 pre{padding: 0;}#sk-container-id-1 div.sk-toggleable {background-color: white;}#sk-container-id-1 label.sk-toggleable__label {cursor: pointer;display: block;width: 100%;margin-bottom: 0;padding: 0.3em;box-sizing: border-box;text-align: center;}#sk-container-id-1 label.sk-toggleable__label-arrow:before {content: \"▸\";float: left;margin-right: 0.25em;color: #696969;}#sk-container-id-1 label.sk-toggleable__label-arrow:hover:before {color: black;}#sk-container-id-1 div.sk-estimator:hover label.sk-toggleable__label-arrow:before {color: black;}#sk-container-id-1 div.sk-toggleable__content {max-height: 0;max-width: 0;overflow: hidden;text-align: left;background-color: #f0f8ff;}#sk-container-id-1 div.sk-toggleable__content pre {margin: 0.2em;color: black;border-radius: 0.25em;background-color: #f0f8ff;}#sk-container-id-1 input.sk-toggleable__control:checked~div.sk-toggleable__content {max-height: 200px;max-width: 100%;overflow: auto;}#sk-container-id-1 input.sk-toggleable__control:checked~label.sk-toggleable__label-arrow:before {content: \"▾\";}#sk-container-id-1 div.sk-estimator input.sk-toggleable__control:checked~label.sk-toggleable__label {background-color: #d4ebff;}#sk-container-id-1 div.sk-label input.sk-toggleable__control:checked~label.sk-toggleable__label {background-color: #d4ebff;}#sk-container-id-1 input.sk-hidden--visually {border: 0;clip: rect(1px 1px 1px 1px);clip: rect(1px, 1px, 1px, 1px);height: 1px;margin: -1px;overflow: hidden;padding: 0;position: absolute;width: 1px;}#sk-container-id-1 div.sk-estimator {font-family: monospace;background-color: #f0f8ff;border: 1px dotted black;border-radius: 0.25em;box-sizing: border-box;margin-bottom: 0.5em;}#sk-container-id-1 div.sk-estimator:hover {background-color: #d4ebff;}#sk-container-id-1 div.sk-parallel-item::after {content: \"\";width: 100%;border-bottom: 1px solid gray;flex-grow: 1;}#sk-container-id-1 div.sk-label:hover label.sk-toggleable__label {background-color: #d4ebff;}#sk-container-id-1 div.sk-serial::before {content: \"\";position: absolute;border-left: 1px solid gray;box-sizing: border-box;top: 0;bottom: 0;left: 50%;z-index: 0;}#sk-container-id-1 div.sk-serial {display: flex;flex-direction: column;align-items: center;background-color: white;padding-right: 0.2em;padding-left: 0.2em;position: relative;}#sk-container-id-1 div.sk-item {position: relative;z-index: 1;}#sk-container-id-1 div.sk-parallel {display: flex;align-items: stretch;justify-content: center;background-color: white;position: relative;}#sk-container-id-1 div.sk-item::before, #sk-container-id-1 div.sk-parallel-item::before {content: \"\";position: absolute;border-left: 1px solid gray;box-sizing: border-box;top: 0;bottom: 0;left: 50%;z-index: -1;}#sk-container-id-1 div.sk-parallel-item {display: flex;flex-direction: column;z-index: 1;position: relative;background-color: white;}#sk-container-id-1 div.sk-parallel-item:first-child::after {align-self: flex-end;width: 50%;}#sk-container-id-1 div.sk-parallel-item:last-child::after {align-self: flex-start;width: 50%;}#sk-container-id-1 div.sk-parallel-item:only-child::after {width: 0;}#sk-container-id-1 div.sk-dashed-wrapped {border: 1px dashed gray;margin: 0 0.4em 0.5em 0.4em;box-sizing: border-box;padding-bottom: 0.4em;background-color: white;}#sk-container-id-1 div.sk-label label {font-family: monospace;font-weight: bold;display: inline-block;line-height: 1.2em;}#sk-container-id-1 div.sk-label-container {text-align: center;}#sk-container-id-1 div.sk-container {/* jupyter's `normalize.less` sets `[hidden] { display: none; }` but bootstrap.min.css set `[hidden] { display: none !important; }` so we also need the `!important` here to be able to override the default hidden behavior on the sphinx rendered scikit-learn.org. See: https://github.com/scikit-learn/scikit-learn/issues/21755 */display: inline-block !important;position: relative;}#sk-container-id-1 div.sk-text-repr-fallback {display: none;}</style><div id=\"sk-container-id-1\" class=\"sk-top-container\"><div class=\"sk-text-repr-fallback\"><pre>KMeans(n_clusters=5)</pre><b>In a Jupyter environment, please rerun this cell to show the HTML representation or trust the notebook. <br />On GitHub, the HTML representation is unable to render, please try loading this page with nbviewer.org.</b></div><div class=\"sk-container\" hidden><div class=\"sk-item\"><div class=\"sk-estimator sk-toggleable\"><input class=\"sk-toggleable__control sk-hidden--visually\" id=\"sk-estimator-id-1\" type=\"checkbox\" checked><label for=\"sk-estimator-id-1\" class=\"sk-toggleable__label sk-toggleable__label-arrow\">KMeans</label><div class=\"sk-toggleable__content\"><pre>KMeans(n_clusters=5)</pre></div></div></div></div></div>"
      ],
      "text/plain": [
       "KMeans(n_clusters=5)"
      ]
     },
     "execution_count": 45,
     "metadata": {},
     "output_type": "execute_result"
    }
   ],
   "source": [
    "kmeans = KMeans(n_clusters=5)\n",
    "kmeans.fit(scaled_feature)"
   ]
  },
  {
   "cell_type": "code",
   "execution_count": 46,
   "metadata": {},
   "outputs": [
    {
     "data": {
      "text/plain": [
       "array([0, 1, 3, ..., 3, 3, 3])"
      ]
     },
     "execution_count": 46,
     "metadata": {},
     "output_type": "execute_result"
    }
   ],
   "source": [
    "kmeans.labels_"
   ]
  },
  {
   "cell_type": "code",
   "execution_count": 47,
   "metadata": {},
   "outputs": [
    {
     "data": {
      "text/plain": [
       "14720"
      ]
     },
     "execution_count": 47,
     "metadata": {},
     "output_type": "execute_result"
    }
   ],
   "source": [
    "len(kmeans.labels_)"
   ]
  },
  {
   "cell_type": "code",
   "execution_count": 48,
   "metadata": {},
   "outputs": [],
   "source": [
    "df['cluster'] = kmeans.labels_"
   ]
  },
  {
   "cell_type": "code",
   "execution_count": 50,
   "metadata": {},
   "outputs": [
    {
     "data": {
      "image/png": "[encoded data removed]",
      "text/plain": [
       "<Figure size 1200x700 with 1 Axes>"
      ]
     },
     "metadata": {},
     "output_type": "display_data"
    }
   ],
   "source": [
    "plt.figure(figsize=(12,7))\n",
    "axis = sns.barplot(x=np.arange(0,5,1), y=df.groupby(['cluster']).count()['age'].values)\n",
    "x=axis.set_xlabel(\"cluster Number\")\n",
    "x=axis.set_ylabel(\"Number of students\")"
   ]
  },
  {
   "cell_type": "markdown",
   "metadata": {},
   "source": [
    "Let' see the number of students belonging to each cluster"
   ]
  },
  {
   "cell_type": "code",
   "execution_count": 52,
   "metadata": {},
   "outputs": [
    {
     "data": {
      "text/plain": [
       "[7029, 2410, 147, 4341, 793]"
      ]
     },
     "execution_count": 52,
     "metadata": {},
     "output_type": "execute_result"
    }
   ],
   "source": [
    "size_array = list(df.groupby(['cluster']).count()['age'].values)\n",
    "size_array"
   ]
  },
  {
   "cell_type": "markdown",
   "metadata": {},
   "source": [
    "Average Age in each cluster"
   ]
  },
  {
   "cell_type": "code",
   "execution_count": 53,
   "metadata": {},
   "outputs": [
    {
     "name": "stdout",
     "output_type": "stream",
     "text": [
      "Cluster 0: 18.06 years\n",
      "Cluster 1: 17.70 years\n",
      "Cluster 2: 17.68 years\n",
      "Cluster 3: 18.02 years\n",
      "Cluster 4: 17.83 years\n"
     ]
    }
   ],
   "source": [
    "# Calculate the mean age for each cluster\n",
    "mean_age = df.groupby('cluster')['age'].mean()\n",
    "\n",
    "# Print the mean age for each cluster in the desired format\n",
    "for cluster, age in mean_age.items():\n",
    "    print(f\"Cluster {cluster}: {age:.2f} years\")"
   ]
  },
  {
   "cell_type": "code",
   "execution_count": 55,
   "metadata": {},
   "outputs": [],
   "source": [
    "df['gender'] = df['gender'].map({'F': 0, 'M': 1, 'not disclosed':3})"
   ]
  },
  {
   "cell_type": "code",
   "execution_count": 56,
   "metadata": {},
   "outputs": [
    {
     "data": {
      "text/plain": [
       "gender\n",
       "0    10993\n",
       "1     2588\n",
       "3     1139\n",
       "Name: count, dtype: int64"
      ]
     },
     "execution_count": 56,
     "metadata": {},
     "output_type": "execute_result"
    }
   ],
   "source": [
    "df['gender'].value_counts()"
   ]
  },
  {
   "cell_type": "markdown",
   "metadata": {},
   "source": [
    "Percentage of females in each cluster"
   ]
  },
  {
   "cell_type": "code",
   "execution_count": 57,
   "metadata": {},
   "outputs": [
    {
     "name": "stdout",
     "output_type": "stream",
     "text": [
      "Cluster 0: 72.24% females\n",
      "Cluster 1: 78.13% females\n",
      "Cluster 2: 87.07% females\n",
      "Cluster 3: 75.47% females\n",
      "Cluster 4: 79.19% females\n"
     ]
    }
   ],
   "source": [
    "# Calculate the percentage of females in each cluster\n",
    "percentage_female = df[df['gender'] == 0].groupby('cluster').size() / df.groupby('cluster').size() * 100\n",
    "\n",
    "# Print the percentage of females in each cluster in a readable format\n",
    "for cluster, percentage in percentage_female.items():\n",
    "    print(f\"Cluster {cluster}: {percentage:.2f}% females\")"
   ]
  },
  {
   "cell_type": "markdown",
   "metadata": {},
   "source": [
    "Average number of friends in each cluster"
   ]
  },
  {
   "cell_type": "code",
   "execution_count": 62,
   "metadata": {},
   "outputs": [
    {
     "name": "stdout",
     "output_type": "stream",
     "text": [
      "Cluster 0: Average number of friends = 5.66\n",
      "Cluster 1: Average number of friends = 63.38\n",
      "Cluster 2: Average number of friends = 208.65\n",
      "Cluster 3: Average number of friends = 31.23\n",
      "Cluster 4: Average number of friends = 111.54\n"
     ]
    }
   ],
   "source": [
    "# Calculate the average number of friends in each cluster\n",
    "mean_friends = df.groupby('cluster')['NumberOffriends'].mean()\n",
    "\n",
    "# Print the average number of friends in each cluster in a readable format\n",
    "for cluster, avg_friends in mean_friends.items():\n",
    "    print(f\"Cluster {cluster}: Average number of friends = {avg_friends:.2f}\")"
   ]
  },
  {
   "cell_type": "code",
   "execution_count": 63,
   "metadata": {},
   "outputs": [
    {
     "name": "stdout",
     "output_type": "stream",
     "text": [
      "Cluster Analysis:\n",
      "Cluster 0:\n",
      "  Mean Age: 18.06 years\n",
      "  Percentage Female: 72.24%\n",
      "  Mean Number of Friends: 5.66\n",
      "  Number of Students: 7029.0\n",
      "\n",
      "Cluster 1:\n",
      "  Mean Age: 17.70 years\n",
      "  Percentage Female: 78.13%\n",
      "  Mean Number of Friends: 63.38\n",
      "  Number of Students: 2410.0\n",
      "\n",
      "Cluster 2:\n",
      "  Mean Age: 17.68 years\n",
      "  Percentage Female: 87.07%\n",
      "  Mean Number of Friends: 208.65\n",
      "  Number of Students: 147.0\n",
      "\n",
      "Cluster 3:\n",
      "  Mean Age: 18.02 years\n",
      "  Percentage Female: 75.47%\n",
      "  Mean Number of Friends: 31.23\n",
      "  Number of Students: 4341.0\n",
      "\n",
      "Cluster 4:\n",
      "  Mean Age: 17.83 years\n",
      "  Percentage Female: 79.19%\n",
      "  Mean Number of Friends: 111.54\n",
      "  Number of Students: 793.0\n",
      "\n"
     ]
    }
   ],
   "source": [
    "cluster_analysis = pd.DataFrame({\n",
    "    'Mean Age': mean_age,\n",
    "    'Percentage Female': percentage_female,\n",
    "    'Mean Number of Friends': mean_friends,\n",
    "    'Number of Students': size_array  \n",
    "})\n",
    "\n",
    "print(\"Cluster Analysis:\")\n",
    "for cluster, row in cluster_analysis.iterrows():\n",
    "    print(f\"Cluster {cluster}:\")\n",
    "    print(f\"  Mean Age: {row['Mean Age']:.2f} years\")\n",
    "    print(f\"  Percentage Female: {row['Percentage Female']:.2f}%\")\n",
    "    print(f\"  Mean Number of Friends: {row['Mean Number of Friends']:.2f}\")\n",
    "    print(f\"  Number of Students: {row['Number of Students']}\")\n",
    "    print()  "
   ]
  },
  {
   "cell_type": "code",
   "execution_count": 64,
   "metadata": {},
   "outputs": [
    {
     "name": "stderr",
     "output_type": "stream",
     "text": [
      "C:\\Users\\FADHIL\\AppData\\Local\\Temp\\ipykernel_50900\\2193581719.py:27: UserWarning: FixedFormatter should only be used together with FixedLocator\n",
      "  ax.set_xticklabels(ax.get_xticklabels(), rotation=45, ha='right')\n"
     ]
    },
    {
     "data": {
      "image/png": "[encoded data removed]",
      "text/plain": [
       "<Figure size 1200x1000 with 4 Axes>"
      ]
     },
     "metadata": {},
     "output_type": "display_data"
    }
   ],
   "source": [
    "clusters = cluster_analysis.index\n",
    "\n",
    "fig, axs = plt.subplots(2, 2, figsize=(12, 10))\n",
    "\n",
    "# Mean Age\n",
    "axs[0, 0].bar(clusters, cluster_analysis['Mean Age'], color='skyblue')\n",
    "axs[0, 0].set_title('Mean Age by Cluster')\n",
    "axs[0, 0].set_ylabel('Mean Age (years)')\n",
    "\n",
    "# Percentage Female\n",
    "axs[0, 1].bar(clusters, cluster_analysis['Percentage Female'], color='lightgreen')\n",
    "axs[0, 1].set_title('Percentage Female by Cluster')\n",
    "axs[0, 1].set_ylabel('Percentage Female')\n",
    "\n",
    "# Mean Number of Friends\n",
    "axs[1, 0].bar(clusters, cluster_analysis['Mean Number of Friends'], color='salmon')\n",
    "axs[1, 0].set_title('Mean Number of Friends by Cluster')\n",
    "axs[1, 0].set_ylabel('Mean Number of Friends')\n",
    "\n",
    "# Number of Students\n",
    "axs[1, 1].bar(clusters, cluster_analysis['Number of Students'], color='gold')\n",
    "axs[1, 1].set_title('Number of Students by Cluster')\n",
    "axs[1, 1].set_ylabel('Number of Students')\n",
    "\n",
    "# Rotate x-axis labels for better readability\n",
    "for ax in axs.flat:\n",
    "    ax.set_xticklabels(ax.get_xticklabels(), rotation=45, ha='right')\n",
    "\n",
    "plt.tight_layout()\n",
    "plt.show()"
   ]
  },
  {
   "cell_type": "markdown",
   "metadata": {},
   "source": [
    "Describe clusters characteristics"
   ]
  },
  {
   "cell_type": "code",
   "execution_count": 65,
   "metadata": {},
   "outputs": [
    {
     "name": "stdout",
     "output_type": "stream",
     "text": [
      "Cluster Characteristics:\n"
     ]
    },
    {
     "data": {
      "text/html": [
       "<div>\n",
       "<style scoped>\n",
       "    .dataframe tbody tr th:only-of-type {\n",
       "        vertical-align: middle;\n",
       "    }\n",
       "\n",
       "    .dataframe tbody tr th {\n",
       "        vertical-align: top;\n",
       "    }\n",
       "\n",
       "    .dataframe thead th {\n",
       "        text-align: right;\n",
       "    }\n",
       "</style>\n",
       "<table border=\"1\" class=\"dataframe\">\n",
       "  <thead>\n",
       "    <tr style=\"text-align: right;\">\n",
       "      <th>cluster</th>\n",
       "      <th>0</th>\n",
       "      <th>1</th>\n",
       "      <th>2</th>\n",
       "      <th>3</th>\n",
       "      <th>4</th>\n",
       "    </tr>\n",
       "  </thead>\n",
       "  <tbody>\n",
       "    <tr>\n",
       "      <th>gradyear</th>\n",
       "      <td>2007.436620</td>\n",
       "      <td>2007.622822</td>\n",
       "      <td>2007.897959</td>\n",
       "      <td>2007.497812</td>\n",
       "      <td>2007.682219</td>\n",
       "    </tr>\n",
       "    <tr>\n",
       "      <th>gender</th>\n",
       "      <td>0.434059</td>\n",
       "      <td>0.383817</td>\n",
       "      <td>0.251701</td>\n",
       "      <td>0.385856</td>\n",
       "      <td>0.399748</td>\n",
       "    </tr>\n",
       "    <tr>\n",
       "      <th>age</th>\n",
       "      <td>18.056222</td>\n",
       "      <td>17.697091</td>\n",
       "      <td>17.678432</td>\n",
       "      <td>18.019938</td>\n",
       "      <td>17.828481</td>\n",
       "    </tr>\n",
       "    <tr>\n",
       "      <th>NumberOffriends</th>\n",
       "      <td>5.659696</td>\n",
       "      <td>63.376349</td>\n",
       "      <td>208.646259</td>\n",
       "      <td>31.232896</td>\n",
       "      <td>111.537201</td>\n",
       "    </tr>\n",
       "    <tr>\n",
       "      <th>basketball</th>\n",
       "      <td>0.224214</td>\n",
       "      <td>0.333610</td>\n",
       "      <td>0.312925</td>\n",
       "      <td>0.301774</td>\n",
       "      <td>0.337957</td>\n",
       "    </tr>\n",
       "    <tr>\n",
       "      <th>football</th>\n",
       "      <td>0.235880</td>\n",
       "      <td>0.290871</td>\n",
       "      <td>0.299320</td>\n",
       "      <td>0.272748</td>\n",
       "      <td>0.308953</td>\n",
       "    </tr>\n",
       "    <tr>\n",
       "      <th>soccer</th>\n",
       "      <td>0.199175</td>\n",
       "      <td>0.269295</td>\n",
       "      <td>0.231293</td>\n",
       "      <td>0.240267</td>\n",
       "      <td>0.257251</td>\n",
       "    </tr>\n",
       "    <tr>\n",
       "      <th>softball</th>\n",
       "      <td>0.123773</td>\n",
       "      <td>0.228631</td>\n",
       "      <td>0.149660</td>\n",
       "      <td>0.167243</td>\n",
       "      <td>0.284994</td>\n",
       "    </tr>\n",
       "    <tr>\n",
       "      <th>volleyball</th>\n",
       "      <td>0.107697</td>\n",
       "      <td>0.200000</td>\n",
       "      <td>0.258503</td>\n",
       "      <td>0.165169</td>\n",
       "      <td>0.189155</td>\n",
       "    </tr>\n",
       "    <tr>\n",
       "      <th>swimming</th>\n",
       "      <td>0.115948</td>\n",
       "      <td>0.162241</td>\n",
       "      <td>0.217687</td>\n",
       "      <td>0.155264</td>\n",
       "      <td>0.142497</td>\n",
       "    </tr>\n",
       "    <tr>\n",
       "      <th>cheerleading</th>\n",
       "      <td>0.091763</td>\n",
       "      <td>0.131950</td>\n",
       "      <td>0.197279</td>\n",
       "      <td>0.099747</td>\n",
       "      <td>0.191677</td>\n",
       "    </tr>\n",
       "    <tr>\n",
       "      <th>baseball</th>\n",
       "      <td>0.098307</td>\n",
       "      <td>0.124896</td>\n",
       "      <td>0.115646</td>\n",
       "      <td>0.096522</td>\n",
       "      <td>0.168979</td>\n",
       "    </tr>\n",
       "    <tr>\n",
       "      <th>tennis</th>\n",
       "      <td>0.083369</td>\n",
       "      <td>0.100415</td>\n",
       "      <td>0.108844</td>\n",
       "      <td>0.089380</td>\n",
       "      <td>0.114754</td>\n",
       "    </tr>\n",
       "    <tr>\n",
       "      <th>sports</th>\n",
       "      <td>0.132167</td>\n",
       "      <td>0.156432</td>\n",
       "      <td>0.115646</td>\n",
       "      <td>0.161023</td>\n",
       "      <td>0.167718</td>\n",
       "    </tr>\n",
       "    <tr>\n",
       "      <th>cute</th>\n",
       "      <td>0.289373</td>\n",
       "      <td>0.393361</td>\n",
       "      <td>0.619048</td>\n",
       "      <td>0.346234</td>\n",
       "      <td>0.433796</td>\n",
       "    </tr>\n",
       "    <tr>\n",
       "      <th>sex</th>\n",
       "      <td>0.211837</td>\n",
       "      <td>0.243154</td>\n",
       "      <td>0.170068</td>\n",
       "      <td>0.225294</td>\n",
       "      <td>0.176545</td>\n",
       "    </tr>\n",
       "    <tr>\n",
       "      <th>sexy</th>\n",
       "      <td>0.130460</td>\n",
       "      <td>0.153527</td>\n",
       "      <td>0.251701</td>\n",
       "      <td>0.138908</td>\n",
       "      <td>0.182850</td>\n",
       "    </tr>\n",
       "    <tr>\n",
       "      <th>hot</th>\n",
       "      <td>0.110400</td>\n",
       "      <td>0.138174</td>\n",
       "      <td>0.156463</td>\n",
       "      <td>0.138217</td>\n",
       "      <td>0.210593</td>\n",
       "    </tr>\n",
       "    <tr>\n",
       "      <th>kissed</th>\n",
       "      <td>0.099445</td>\n",
       "      <td>0.114523</td>\n",
       "      <td>0.197279</td>\n",
       "      <td>0.114490</td>\n",
       "      <td>0.088272</td>\n",
       "    </tr>\n",
       "    <tr>\n",
       "      <th>dance</th>\n",
       "      <td>0.368900</td>\n",
       "      <td>0.512863</td>\n",
       "      <td>0.489796</td>\n",
       "      <td>0.481226</td>\n",
       "      <td>0.596469</td>\n",
       "    </tr>\n",
       "    <tr>\n",
       "      <th>band</th>\n",
       "      <td>0.289942</td>\n",
       "      <td>0.345228</td>\n",
       "      <td>0.435374</td>\n",
       "      <td>0.319051</td>\n",
       "      <td>0.263556</td>\n",
       "    </tr>\n",
       "    <tr>\n",
       "      <th>marching</th>\n",
       "      <td>0.037843</td>\n",
       "      <td>0.055602</td>\n",
       "      <td>0.102041</td>\n",
       "      <td>0.043308</td>\n",
       "      <td>0.036570</td>\n",
       "    </tr>\n",
       "    <tr>\n",
       "      <th>music</th>\n",
       "      <td>0.708209</td>\n",
       "      <td>0.810373</td>\n",
       "      <td>0.768707</td>\n",
       "      <td>0.770560</td>\n",
       "      <td>0.756620</td>\n",
       "    </tr>\n",
       "    <tr>\n",
       "      <th>rock</th>\n",
       "      <td>0.235026</td>\n",
       "      <td>0.280498</td>\n",
       "      <td>0.210884</td>\n",
       "      <td>0.255010</td>\n",
       "      <td>0.277427</td>\n",
       "    </tr>\n",
       "    <tr>\n",
       "      <th>god</th>\n",
       "      <td>0.436904</td>\n",
       "      <td>0.574274</td>\n",
       "      <td>0.639456</td>\n",
       "      <td>0.476618</td>\n",
       "      <td>0.635561</td>\n",
       "    </tr>\n",
       "    <tr>\n",
       "      <th>church</th>\n",
       "      <td>0.196614</td>\n",
       "      <td>0.317012</td>\n",
       "      <td>0.401361</td>\n",
       "      <td>0.261921</td>\n",
       "      <td>0.413619</td>\n",
       "    </tr>\n",
       "    <tr>\n",
       "      <th>jesus</th>\n",
       "      <td>0.096315</td>\n",
       "      <td>0.135270</td>\n",
       "      <td>0.156463</td>\n",
       "      <td>0.117024</td>\n",
       "      <td>0.186633</td>\n",
       "    </tr>\n",
       "    <tr>\n",
       "      <th>bible</th>\n",
       "      <td>0.018637</td>\n",
       "      <td>0.020332</td>\n",
       "      <td>0.020408</td>\n",
       "      <td>0.023958</td>\n",
       "      <td>0.031526</td>\n",
       "    </tr>\n",
       "    <tr>\n",
       "      <th>hair</th>\n",
       "      <td>0.424669</td>\n",
       "      <td>0.461826</td>\n",
       "      <td>0.612245</td>\n",
       "      <td>0.440221</td>\n",
       "      <td>0.465322</td>\n",
       "    </tr>\n",
       "    <tr>\n",
       "      <th>dress</th>\n",
       "      <td>0.106843</td>\n",
       "      <td>0.138589</td>\n",
       "      <td>0.108844</td>\n",
       "      <td>0.116563</td>\n",
       "      <td>0.176545</td>\n",
       "    </tr>\n",
       "    <tr>\n",
       "      <th>blonde</th>\n",
       "      <td>0.086357</td>\n",
       "      <td>0.111618</td>\n",
       "      <td>0.129252</td>\n",
       "      <td>0.156646</td>\n",
       "      <td>0.148802</td>\n",
       "    </tr>\n",
       "    <tr>\n",
       "      <th>mall</th>\n",
       "      <td>0.219092</td>\n",
       "      <td>0.316183</td>\n",
       "      <td>0.380952</td>\n",
       "      <td>0.268832</td>\n",
       "      <td>0.462799</td>\n",
       "    </tr>\n",
       "    <tr>\n",
       "      <th>shopping</th>\n",
       "      <td>0.315265</td>\n",
       "      <td>0.458091</td>\n",
       "      <td>0.510204</td>\n",
       "      <td>0.370652</td>\n",
       "      <td>0.447667</td>\n",
       "    </tr>\n",
       "    <tr>\n",
       "      <th>clothes</th>\n",
       "      <td>0.144117</td>\n",
       "      <td>0.167220</td>\n",
       "      <td>0.231293</td>\n",
       "      <td>0.158258</td>\n",
       "      <td>0.147541</td>\n",
       "    </tr>\n",
       "    <tr>\n",
       "      <th>hollister</th>\n",
       "      <td>0.058614</td>\n",
       "      <td>0.102075</td>\n",
       "      <td>0.102041</td>\n",
       "      <td>0.071642</td>\n",
       "      <td>0.117276</td>\n",
       "    </tr>\n",
       "    <tr>\n",
       "      <th>abercrombie</th>\n",
       "      <td>0.040689</td>\n",
       "      <td>0.073029</td>\n",
       "      <td>0.149660</td>\n",
       "      <td>0.051140</td>\n",
       "      <td>0.083228</td>\n",
       "    </tr>\n",
       "    <tr>\n",
       "      <th>die</th>\n",
       "      <td>0.184948</td>\n",
       "      <td>0.174274</td>\n",
       "      <td>0.217687</td>\n",
       "      <td>0.200415</td>\n",
       "      <td>0.209332</td>\n",
       "    </tr>\n",
       "    <tr>\n",
       "      <th>death</th>\n",
       "      <td>0.108835</td>\n",
       "      <td>0.128216</td>\n",
       "      <td>0.176871</td>\n",
       "      <td>0.129003</td>\n",
       "      <td>0.138714</td>\n",
       "    </tr>\n",
       "    <tr>\n",
       "      <th>drunk</th>\n",
       "      <td>0.091478</td>\n",
       "      <td>0.081328</td>\n",
       "      <td>0.156463</td>\n",
       "      <td>0.096752</td>\n",
       "      <td>0.118537</td>\n",
       "    </tr>\n",
       "    <tr>\n",
       "      <th>drugs</th>\n",
       "      <td>0.069711</td>\n",
       "      <td>0.058091</td>\n",
       "      <td>0.034014</td>\n",
       "      <td>0.058973</td>\n",
       "      <td>0.031526</td>\n",
       "    </tr>\n",
       "  </tbody>\n",
       "</table>\n",
       "</div>"
      ],
      "text/plain": [
       "cluster                    0            1            2            3  \\\n",
       "gradyear         2007.436620  2007.622822  2007.897959  2007.497812   \n",
       "gender              0.434059     0.383817     0.251701     0.385856   \n",
       "age                18.056222    17.697091    17.678432    18.019938   \n",
       "NumberOffriends     5.659696    63.376349   208.646259    31.232896   \n",
       "basketball          0.224214     0.333610     0.312925     0.301774   \n",
       "football            0.235880     0.290871     0.299320     0.272748   \n",
       "soccer              0.199175     0.269295     0.231293     0.240267   \n",
       "softball            0.123773     0.228631     0.149660     0.167243   \n",
       "volleyball          0.107697     0.200000     0.258503     0.165169   \n",
       "swimming            0.115948     0.162241     0.217687     0.155264   \n",
       "cheerleading        0.091763     0.131950     0.197279     0.099747   \n",
       "baseball            0.098307     0.124896     0.115646     0.096522   \n",
       "tennis              0.083369     0.100415     0.108844     0.089380   \n",
       "sports              0.132167     0.156432     0.115646     0.161023   \n",
       "cute                0.289373     0.393361     0.619048     0.346234   \n",
       "sex                 0.211837     0.243154     0.170068     0.225294   \n",
       "sexy                0.130460     0.153527     0.251701     0.138908   \n",
       "hot                 0.110400     0.138174     0.156463     0.138217   \n",
       "kissed              0.099445     0.114523     0.197279     0.114490   \n",
       "dance               0.368900     0.512863     0.489796     0.481226   \n",
       "band                0.289942     0.345228     0.435374     0.319051   \n",
       "marching            0.037843     0.055602     0.102041     0.043308   \n",
       "music               0.708209     0.810373     0.768707     0.770560   \n",
       "rock                0.235026     0.280498     0.210884     0.255010   \n",
       "god                 0.436904     0.574274     0.639456     0.476618   \n",
       "church              0.196614     0.317012     0.401361     0.261921   \n",
       "jesus               0.096315     0.135270     0.156463     0.117024   \n",
       "bible               0.018637     0.020332     0.020408     0.023958   \n",
       "hair                0.424669     0.461826     0.612245     0.440221   \n",
       "dress               0.106843     0.138589     0.108844     0.116563   \n",
       "blonde              0.086357     0.111618     0.129252     0.156646   \n",
       "mall                0.219092     0.316183     0.380952     0.268832   \n",
       "shopping            0.315265     0.458091     0.510204     0.370652   \n",
       "clothes             0.144117     0.167220     0.231293     0.158258   \n",
       "hollister           0.058614     0.102075     0.102041     0.071642   \n",
       "abercrombie         0.040689     0.073029     0.149660     0.051140   \n",
       "die                 0.184948     0.174274     0.217687     0.200415   \n",
       "death               0.108835     0.128216     0.176871     0.129003   \n",
       "drunk               0.091478     0.081328     0.156463     0.096752   \n",
       "drugs               0.069711     0.058091     0.034014     0.058973   \n",
       "\n",
       "cluster                    4  \n",
       "gradyear         2007.682219  \n",
       "gender              0.399748  \n",
       "age                17.828481  \n",
       "NumberOffriends   111.537201  \n",
       "basketball          0.337957  \n",
       "football            0.308953  \n",
       "soccer              0.257251  \n",
       "softball            0.284994  \n",
       "volleyball          0.189155  \n",
       "swimming            0.142497  \n",
       "cheerleading        0.191677  \n",
       "baseball            0.168979  \n",
       "tennis              0.114754  \n",
       "sports              0.167718  \n",
       "cute                0.433796  \n",
       "sex                 0.176545  \n",
       "sexy                0.182850  \n",
       "hot                 0.210593  \n",
       "kissed              0.088272  \n",
       "dance               0.596469  \n",
       "band                0.263556  \n",
       "marching            0.036570  \n",
       "music               0.756620  \n",
       "rock                0.277427  \n",
       "god                 0.635561  \n",
       "church              0.413619  \n",
       "jesus               0.186633  \n",
       "bible               0.031526  \n",
       "hair                0.465322  \n",
       "dress               0.176545  \n",
       "blonde              0.148802  \n",
       "mall                0.462799  \n",
       "shopping            0.447667  \n",
       "clothes             0.147541  \n",
       "hollister           0.117276  \n",
       "abercrombie         0.083228  \n",
       "die                 0.209332  \n",
       "death               0.138714  \n",
       "drunk               0.118537  \n",
       "drugs               0.031526  "
      ]
     },
     "execution_count": 65,
     "metadata": {},
     "output_type": "execute_result"
    }
   ],
   "source": [
    "def describe_clusters(df):\n",
    "   \n",
    "    # Describe cluster characteristics\n",
    "    cluster_analysis = df.groupby('cluster').mean().T\n",
    "    print(\"Cluster Characteristics:\")\n",
    "    cluster_df = pd.DataFrame(cluster_analysis)\n",
    "    \n",
    "    return cluster_df\n",
    "\n",
    "describe_clusters(df)"
   ]
  },
  {
   "cell_type": "code",
   "execution_count": null,
   "metadata": {},
   "outputs": [],
   "source": []
  },
  {
   "cell_type": "markdown",
   "metadata": {},
   "source": [
    "# Recommendation for marketing department"
   ]
  },
  {
   "cell_type": "markdown",
   "metadata": {},
   "source": [
    "👉Targeting Female-Centric Products:¶\n",
    "Clusters 1, 2, and 3 have a higher percentage of females compared to the overall population. Therefore, products or advertisements that specifically target teenage girls may perform well within these clusters. Products related to fashion, beauty, socializing, or lifestyle may resonate more with these clusters.\n",
    "\n",
    "👉Understanding Male-Centric Interests:\n",
    "Clusters 0 and 4 have a higher percentage of males. Understanding the interests and preferences of teenage boys within these clusters can help develop marketing campaigns tailored to their needs. Products related to sports, technology, gaming, or adventure may appeal more to these clusters.\n",
    "\n",
    "👉Fashion and Retail Promotions:\n",
    "Clusters 2 and 3 show a higher interest in shopping, suggesting that advertising campaigns or promotions related to shopping might be more effective for these clusters.\n",
    "\n",
    "👉Sports and Lifestyle Brand Partnerships:\n",
    "Collaborate with sports brands or organize sports-related events and activities to appeal to clusters showing a strong interest in sports (e.g., Clusters 3 and 4)."
   ]
  }
 ],
 "metadata": {
  "kernelspec": {
   "display_name": "Python 3",
   "language": "python",
   "name": "python3"
  },
  "language_info": {
   "codemirror_mode": {
    "name": "ipython",
    "version": 3
   },
   "file_extension": ".py",
   "mimetype": "text/x-python",
   "name": "python",
   "nbconvert_exporter": "python",
   "pygments_lexer": "ipython3",
   "version": "3.8.7"
  }
 },
 "nbformat": 4,
 "nbformat_minor": 2
}
