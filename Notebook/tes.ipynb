{
 "cells": [
  {
   "cell_type": "code",
   "execution_count": 5,
   "metadata": {},
   "outputs": [
    {
     "name": "stdout",
     "output_type": "stream",
     "text": [
      "Collecting sympy\n",
      "  Downloading sympy-1.12-py3-none-any.whl (5.7 MB)\n",
      "     ---------------------------------------- 5.7/5.7 MB 2.6 MB/s eta 0:00:00\n",
      "Collecting mpmath>=0.19\n",
      "  Downloading mpmath-1.3.0-py3-none-any.whl (536 kB)\n",
      "     -------------------------------------- 536.2/536.2 kB 1.3 MB/s eta 0:00:00\n",
      "Installing collected packages: mpmath, sympy\n",
      "Successfully installed mpmath-1.3.0 sympy-1.12\n",
      "Note: you may need to restart the kernel to use updated packages.\n"
     ]
    },
    {
     "name": "stderr",
     "output_type": "stream",
     "text": [
      "\n",
      "[notice] A new release of pip available: 22.3.1 -> 23.2.1\n",
      "[notice] To update, run: python.exe -m pip install --upgrade pip\n"
     ]
    }
   ],
   "source": [
    "pip install sympy\n"
   ]
  },
  {
   "cell_type": "code",
   "execution_count": 8,
   "metadata": {},
   "outputs": [],
   "source": [
    "import sympy"
   ]
  },
  {
   "cell_type": "code",
   "execution_count": 10,
   "metadata": {},
   "outputs": [
    {
     "ename": "AttributeError",
     "evalue": "module 'sympy' has no attribute 'ForAll'",
     "output_type": "error",
     "traceback": [
      "\u001b[1;31m---------------------------------------------------------------------------\u001b[0m",
      "\u001b[1;31mAttributeError\u001b[0m                            Traceback (most recent call last)",
      "Cell \u001b[1;32mIn[10], line 5\u001b[0m\n\u001b[0;32m      2\u001b[0m x, y \u001b[39m=\u001b[39m sympy\u001b[39m.\u001b[39msymbols(\u001b[39m'\u001b[39m\u001b[39mx y\u001b[39m\u001b[39m'\u001b[39m)\n\u001b[0;32m      4\u001b[0m \u001b[39m# Statement: ∀x∃y(x^2 = y)\u001b[39;00m\n\u001b[1;32m----> 5\u001b[0m statement_a \u001b[39m=\u001b[39m sympy\u001b[39m.\u001b[39;49mForAll(x, sympy\u001b[39m.\u001b[39mExists(y, x\u001b[39m*\u001b[39m\u001b[39m*\u001b[39m\u001b[39m2\u001b[39m \u001b[39m==\u001b[39m y))\n\u001b[0;32m      7\u001b[0m \u001b[39m# Statement: ∀x∃y(x = y^2)\u001b[39;00m\n\u001b[0;32m      8\u001b[0m statement_b \u001b[39m=\u001b[39m sympy\u001b[39m.\u001b[39mForAll(x, sympy\u001b[39m.\u001b[39mExists(y, x \u001b[39m==\u001b[39m y\u001b[39m*\u001b[39m\u001b[39m*\u001b[39m\u001b[39m2\u001b[39m))\n",
      "\u001b[1;31mAttributeError\u001b[0m: module 'sympy' has no attribute 'ForAll'"
     ]
    }
   ],
   "source": [
    "# Define the variables\n",
    "x, y = sympy.symbols('x y')\n",
    "\n",
    "# Statement: ∀x∃y(x^2 = y)\n",
    "statement_a = sympy.ForAll(x, sympy.Exists(y, x**2 == y))\n",
    "\n",
    "# Statement: ∀x∃y(x = y^2)\n",
    "statement_b = sympy.ForAll(x, sympy.Exists(y, x == y**2))\n",
    "\n",
    "# Statement: ∃x∀y(xy = 0)\n",
    "statement_c = sympy.Exists(x, sympy.ForAll(y, x * y == 0))\n",
    "\n",
    "# Statement: ∃x∃y(x + y = y + x)\n",
    "statement_d = sympy.Exists(x, sympy.Exists(y, x + y == y + x))\n",
    "\n",
    "# Statement: ∀x(x = 0 → ∃y(xy = 1))\n",
    "statement_e = sympy.ForAll(x, sympy.Implies(x == 0, sympy.Exists(y, x * y == 1)))\n",
    "\n",
    "# Statement: ∃x∀y(y = 0 → xy = 1)\n",
    "statement_f = sympy.Exists(x, sympy.ForAll(y, sympy.Implies(y == 0, x * y == 1)))\n",
    "\n",
    "# Check the truth values\n",
    "domain = sympy.S.Reals  # Set the domain to all real numbers\n",
    "\n",
    "truth_value_a = statement_a.subs(x, domain).simplify()\n",
    "truth_value_b = statement_b.subs(x, domain).simplify()\n",
    "truth_value_c = statement_c.subs(x, domain).simplify()\n",
    "truth_value_d = statement_d.subs(x, domain).simplify()\n",
    "truth_value_e = statement_e.subs(x, domain).simplify()\n",
    "truth_value_f = statement_f.subs(x, domain).simplify()\n",
    "\n",
    "# Print the results\n",
    "print(\"Statement a):\", truth_value_a)\n",
    "print(\"Statement b):\", truth_value_b)\n",
    "print(\"Statement c):\", truth_value_c)\n",
    "print(\"Statement d):\", truth_value_d)\n",
    "print(\"Statement e):\", truth_value_e)\n",
    "print(\"Statement f):\", truth_value_f)"
   ]
  }
 ],
 "metadata": {
  "kernelspec": {
   "display_name": "Python 3",
   "language": "python",
   "name": "python3"
  },
  "language_info": {
   "codemirror_mode": {
    "name": "ipython",
    "version": 3
   },
   "file_extension": ".py",
   "mimetype": "text/x-python",
   "name": "python",
   "nbconvert_exporter": "python",
   "pygments_lexer": "ipython3",
   "version": "3.11.1"
  },
  "orig_nbformat": 4,
  "vscode": {
   "interpreter": {
    "hash": "4b6686ac564631b7dfe67130d288fcb771899a74ee6d345d5143a038a84b46cd"
   }
  }
 },
 "nbformat": 4,
 "nbformat_minor": 2
}
