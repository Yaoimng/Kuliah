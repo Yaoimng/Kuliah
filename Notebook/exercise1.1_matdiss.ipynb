{
 "cells": [
  {
   "attachments": {},
   "cell_type": "markdown",
   "metadata": {},
   "source": [
    "#Exercise 1.1 "
   ]
  },
  {
   "cell_type": "code",
   "execution_count": 1,
   "metadata": {},
   "outputs": [],
   "source": [
    "def implication(p,q):\n",
    "      return (not p) or q\n",
    "def exclusive_disjunction(p, q):\n",
    "    return (p and not q) or (not p and q)\n",
    "def bi_implication(p, q):\n",
    "  return p == q\n",
    "def disjunction(p, q):\n",
    "  return (p or q)\n",
    "def conjunction(p, q):\n",
    "  return (p and q)"
   ]
  },
  {
   "attachments": {},
   "cell_type": "markdown",
   "metadata": {},
   "source": [
    "#No.37 "
   ]
  },
  {
   "attachments": {},
   "cell_type": "markdown",
   "metadata": {},
   "source": [
    "A"
   ]
  },
  {
   "cell_type": "code",
   "execution_count": 7,
   "metadata": {},
   "outputs": [
    {
     "name": "stdout",
     "output_type": "stream",
     "text": [
      "p\tq\tr\t(-q v r)\tp → (¬q ∨ r)\t\n",
      "True\tTrue\tTrue\tTrue\tTrue\t \n",
      "True\tTrue\tFalse\tFalse\tFalse\t \n",
      "True\tFalse\tTrue\tTrue\tTrue\t \n",
      "True\tFalse\tFalse\tTrue\tTrue\t \n",
      "False\tTrue\tTrue\tTrue\tTrue\t \n",
      "False\tTrue\tFalse\tFalse\tTrue\t \n",
      "False\tFalse\tTrue\tTrue\tTrue\t \n",
      "False\tFalse\tFalse\tTrue\tTrue\t \n"
     ]
    }
   ],
   "source": [
    "print(\"p\\tq\\tr\\t(-q v r)\\tp → (¬q ∨ r)\\t\")\n",
    "for p in [True, False]:\n",
    "  for q in [True, False]:\n",
    "    for r in [True, False]:\n",
    "      qr = disjunction(not q, r)\n",
    "      print(f\"{p}\\t{q}\\t{r}\\t{not q or r}\\t{implication(p, qr)}\\t \")"
   ]
  },
  {
   "attachments": {},
   "cell_type": "markdown",
   "metadata": {},
   "source": [
    "B"
   ]
  },
  {
   "cell_type": "code",
   "execution_count": 8,
   "metadata": {},
   "outputs": [
    {
     "name": "stdout",
     "output_type": "stream",
     "text": [
      "p\tq\tr\t-p\t(q → r)\t-p → (q → r)\t\n",
      "True\tTrue\tTrue\tFalse\tTrue\t  True \n",
      "True\tTrue\tFalse\tFalse\tFalse\t  False \n",
      "True\tFalse\tTrue\tFalse\tTrue\t  True \n",
      "True\tFalse\tFalse\tFalse\tTrue\t  True \n",
      "False\tTrue\tTrue\tTrue\tTrue\t  True \n",
      "False\tTrue\tFalse\tTrue\tFalse\t  True \n",
      "False\tFalse\tTrue\tTrue\tTrue\t  True \n",
      "False\tFalse\tFalse\tTrue\tTrue\t  True \n"
     ]
    }
   ],
   "source": [
    "print(\"p\\tq\\tr\\t-p\\t(q → r)\\t-p → (q → r)\\t\")\n",
    "for p in [True, False]:\n",
    "  for q in [True, False]:\n",
    "    for r in [True, False]:\n",
    "      qr = implication(q, r)\n",
    "      print(f\"{p}\\t{q}\\t{r}\\t{(not p)}\\t{implication(q, r)}\\t  {implication(p, qr)} \") "
   ]
  },
  {
   "attachments": {},
   "cell_type": "markdown",
   "metadata": {},
   "source": [
    "C"
   ]
  },
  {
   "cell_type": "code",
   "execution_count": 10,
   "metadata": {},
   "outputs": [
    {
     "name": "stdout",
     "output_type": "stream",
     "text": [
      "p\tq\tr\t(p → q)\t(-p → r)\t(p → q) v (-p → r)\t\n",
      "True\tTrue\tTrue\tTrue\tTrue\t\tTrue\t \n",
      "True\tTrue\tFalse\tTrue\tTrue\t\tTrue\t \n",
      "True\tFalse\tTrue\tFalse\tTrue\t\tTrue\t \n",
      "True\tFalse\tFalse\tFalse\tTrue\t\tTrue\t \n",
      "False\tTrue\tTrue\tTrue\tTrue\t\tTrue\t \n",
      "False\tTrue\tFalse\tTrue\tFalse\t\tTrue\t \n",
      "False\tFalse\tTrue\tTrue\tTrue\t\tTrue\t \n",
      "False\tFalse\tFalse\tTrue\tFalse\t\tTrue\t \n"
     ]
    }
   ],
   "source": [
    "print(\"p\\tq\\tr\\t(p → q)\\t(-p → r)\\t(p → q) v (-p → r)\\t\")\n",
    "for p in [True, False]:\n",
    "  for q in [True, False]:\n",
    "    for r in [True, False]:\n",
    "      pq = implication(p, q)\n",
    "      pr = implication(not p, r)\n",
    "      print(f\"{p}\\t{q}\\t{r}\\t{pq}\\t{pr}\\t\\t{pq or pr}\\t \")"
   ]
  },
  {
   "attachments": {},
   "cell_type": "markdown",
   "metadata": {},
   "source": [
    "D"
   ]
  },
  {
   "cell_type": "code",
   "execution_count": 13,
   "metadata": {},
   "outputs": [
    {
     "name": "stdout",
     "output_type": "stream",
     "text": [
      "p\tq\tr\t(p → q)\t(-p → r)\t(p → q) ^ (-p → r)\n",
      "True\tTrue\tTrue\tTrue\tTrue\t\tTrue \n",
      "True\tTrue\tFalse\tTrue\tTrue\t\tTrue \n",
      "True\tFalse\tTrue\tFalse\tTrue\t\tFalse \n",
      "True\tFalse\tFalse\tFalse\tTrue\t\tFalse \n",
      "False\tTrue\tTrue\tTrue\tTrue\t\tTrue \n",
      "False\tTrue\tFalse\tTrue\tFalse\t\tFalse \n",
      "False\tFalse\tTrue\tTrue\tTrue\t\tTrue \n",
      "False\tFalse\tFalse\tTrue\tFalse\t\tFalse \n"
     ]
    }
   ],
   "source": [
    "print(\"p\\tq\\tr\\t(p → q)\\t(-p → r)\\t(p → q) ^ (-p → r)\")\n",
    "for p in [True, False]:\n",
    "  for q in [True, False]:\n",
    "    for r in [True, False]:\n",
    "      pq = implication(p, q)\n",
    "      pr = implication(not p, r)\n",
    "      print(f\"{p}\\t{q}\\t{r}\\t{pq}\\t{pr}\\t\\t{pq and pr} \")"
   ]
  },
  {
   "attachments": {},
   "cell_type": "markdown",
   "metadata": {},
   "source": [
    "E"
   ]
  },
  {
   "cell_type": "code",
   "execution_count": 15,
   "metadata": {},
   "outputs": [
    {
     "name": "stdout",
     "output_type": "stream",
     "text": [
      "p\tq\tr\t(p ↔ q)\t(-q ↔ r)\t(p ↔ q) v (-q ↔ r)\n",
      "True\tTrue\tTrue\tTrue\tFalse\t\tTrue \n",
      "True\tTrue\tFalse\tTrue\tTrue\t\tTrue \n",
      "True\tFalse\tTrue\tFalse\tTrue\t\tTrue \n",
      "True\tFalse\tFalse\tFalse\tFalse\t\tFalse \n",
      "False\tTrue\tTrue\tFalse\tFalse\t\tFalse \n",
      "False\tTrue\tFalse\tFalse\tTrue\t\tTrue \n",
      "False\tFalse\tTrue\tTrue\tTrue\t\tTrue \n",
      "False\tFalse\tFalse\tTrue\tFalse\t\tTrue \n"
     ]
    }
   ],
   "source": [
    "print(\"p\\tq\\tr\\t(p ↔ q)\\t(-q ↔ r)\\t(p ↔ q) v (-q ↔ r)\")\n",
    "for p in [True, False]:\n",
    "  for q in [True, False]:\n",
    "    for r in [True, False]:\n",
    "      pq = bi_implication(p, q)\n",
    "      qr = bi_implication(not q, r)\n",
    "      print(f\"{p}\\t{q}\\t{r}\\t{pq}\\t{qr}\\t\\t{pq or qr} \")"
   ]
  },
  {
   "attachments": {},
   "cell_type": "markdown",
   "metadata": {},
   "source": [
    "F"
   ]
  },
  {
   "cell_type": "code",
   "execution_count": 17,
   "metadata": {},
   "outputs": [
    {
     "name": "stdout",
     "output_type": "stream",
     "text": [
      "p\tq\tr\t(-p ↔ -q)\t(q ↔ r)\t(-p ↔ -q) ↔ (q ↔ r)\n",
      "True\tTrue\tTrue\tTrue\t\tTrue\tTrue \n",
      "True\tTrue\tFalse\tTrue\t\tFalse\tFalse \n",
      "True\tFalse\tTrue\tFalse\t\tFalse\tTrue \n",
      "True\tFalse\tFalse\tFalse\t\tTrue\tFalse \n",
      "False\tTrue\tTrue\tFalse\t\tTrue\tFalse \n",
      "False\tTrue\tFalse\tFalse\t\tFalse\tTrue \n",
      "False\tFalse\tTrue\tTrue\t\tFalse\tFalse \n",
      "False\tFalse\tFalse\tTrue\t\tTrue\tTrue \n"
     ]
    }
   ],
   "source": [
    "print(\"p\\tq\\tr\\t(-p ↔ -q)\\t(q ↔ r)\\t(-p ↔ -q) ↔ (q ↔ r)\")\n",
    "for p in [True, False]:\n",
    "  for q in [True, False]:\n",
    "    for r in [True, False]:\n",
    "      pq = bi_implication(not p,not q)\n",
    "      qr = bi_implication(q, r)\n",
    "      print(f\"{p}\\t{q}\\t{r}\\t{pq}\\t\\t{qr}\\t{bi_implication(pq, qr)} \")"
   ]
  },
  {
   "attachments": {},
   "cell_type": "markdown",
   "metadata": {},
   "source": [
    "#No.42"
   ]
  },
  {
   "attachments": {},
   "cell_type": "markdown",
   "metadata": {},
   "source": [
    "A"
   ]
  },
  {
   "cell_type": "code",
   "execution_count": 18,
   "metadata": {},
   "outputs": [
    {
     "name": "stdout",
     "output_type": "stream",
     "text": [
      "2\n"
     ]
    }
   ],
   "source": [
    "x = 1\n",
    "if x + 2 == 3:\n",
    "  x = x + 1\n",
    "print(x)"
   ]
  },
  {
   "attachments": {},
   "cell_type": "markdown",
   "metadata": {},
   "source": [
    "B"
   ]
  },
  {
   "cell_type": "code",
   "execution_count": 19,
   "metadata": {},
   "outputs": [
    {
     "name": "stdout",
     "output_type": "stream",
     "text": [
      "1\n"
     ]
    }
   ],
   "source": [
    "x = 1\n",
    "if (x + 1 == 3) or (2*x + 2 == 3):\n",
    "  x = x + 1\n",
    "print(x)"
   ]
  },
  {
   "attachments": {},
   "cell_type": "markdown",
   "metadata": {},
   "source": [
    "C"
   ]
  },
  {
   "cell_type": "code",
   "execution_count": 20,
   "metadata": {},
   "outputs": [
    {
     "name": "stdout",
     "output_type": "stream",
     "text": [
      "2\n"
     ]
    }
   ],
   "source": [
    "x = 1\n",
    "if (2*x + 3 == 5) and (3*x + 4 == 7):\n",
    "  x = x + 1\n",
    "print(x)"
   ]
  },
  {
   "attachments": {},
   "cell_type": "markdown",
   "metadata": {},
   "source": [
    "D"
   ]
  },
  {
   "cell_type": "code",
   "execution_count": 21,
   "metadata": {},
   "outputs": [
    {
     "name": "stdout",
     "output_type": "stream",
     "text": [
      "1\n"
     ]
    }
   ],
   "source": [
    "x = 1\n",
    "p = (x + 1 == 2)\n",
    "q = (x + 2 == 3)\n",
    "if exclusive_disjunction(p, q):\n",
    "  x = x + 1\n",
    "print(x)"
   ]
  },
  {
   "attachments": {},
   "cell_type": "markdown",
   "metadata": {},
   "source": [
    "E"
   ]
  },
  {
   "cell_type": "code",
   "execution_count": 22,
   "metadata": {},
   "outputs": [
    {
     "name": "stdout",
     "output_type": "stream",
     "text": [
      "2\n"
     ]
    },
    {
     "ename": "",
     "evalue": "",
     "output_type": "error",
     "traceback": [
      "\u001b[1;31mThe Kernel crashed while executing code in the the current cell or a previous cell. Please review the code in the cell(s) to identify a possible cause of the failure. Click <a href='https://aka.ms/vscodeJupyterKernelCrash'>here</a> for more info. View Jupyter <a href='command:jupyter.viewOutput'>log</a> for further details."
     ]
    }
   ],
   "source": [
    "x = 1\n",
    "if x < 2:\n",
    "  x = x + 1\n",
    "print(x)"
   ]
  }
 ],
 "metadata": {
  "kernelspec": {
   "display_name": "Python 3",
   "language": "python",
   "name": "python3"
  },
  "language_info": {
   "codemirror_mode": {
    "name": "ipython",
    "version": 3
   },
   "file_extension": ".py",
   "mimetype": "text/x-python",
   "name": "python",
   "nbconvert_exporter": "python",
   "pygments_lexer": "ipython3",
   "version": "3.11.1"
  },
  "orig_nbformat": 4,
  "vscode": {
   "interpreter": {
    "hash": "4b6686ac564631b7dfe67130d288fcb771899a74ee6d345d5143a038a84b46cd"
   }
  }
 },
 "nbformat": 4,
 "nbformat_minor": 2
}
