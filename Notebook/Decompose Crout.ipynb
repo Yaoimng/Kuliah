{
 "cells": [
  {
   "attachments": {},
   "cell_type": "markdown",
   "metadata": {},
   "source": [
    "#Matriks"
   ]
  },
  {
   "cell_type": "code",
   "execution_count": 7,
   "metadata": {},
   "outputs": [],
   "source": [
    "import matplotlib\n",
    "import numpy as np"
   ]
  },
  {
   "cell_type": "code",
   "execution_count": 8,
   "metadata": {},
   "outputs": [],
   "source": [
    "def crout(A: np.ndarray):\n",
    "\n",
    "    L = np.zeros((3, 3))\n",
    "    U = np.zeros((3, 3))\n",
    "\n",
    "    for k in range(0, 3):\n",
    "        U[k, k] = 1\n",
    "\n",
    "        for j in range(k, 3):\n",
    "            sum0 = sum(L[k, s] * U[s, j] for s in range(1, k-1))\n",
    "            L[k, j] = A[k, j] - sum0\n",
    "\n",
    "        for j in range(k, 3):\n",
    "            sum1 = sum(L[k, s] * U[s, j] for s in range(1, k-1))\n",
    "            U[k, j] = (A[k, j] - sum1) / L[k, k]\n",
    "\n",
    "    print(\" L =\", '\\n', L, '\\n', \" U =\", '\\n', U)\n",
    "    return L, U"
   ]
  },
  {
   "cell_type": "code",
   "execution_count": 9,
   "metadata": {},
   "outputs": [
    {
     "name": "stdout",
     "output_type": "stream",
     "text": [
      " L = \n",
      " [[ 2. -5.  1.]\n",
      " [ 0.  3. -1.]\n",
      " [ 0.  0.  2.]] \n",
      "  U = \n",
      " [[ 1.         -2.5         0.5       ]\n",
      " [ 0.          1.         -0.33333333]\n",
      " [ 0.          0.          1.        ]]\n"
     ]
    },
    {
     "data": {
      "text/plain": [
       "(array([[ 2., -5.,  1.],\n",
       "        [ 0.,  3., -1.],\n",
       "        [ 0.,  0.,  2.]]),\n",
       " array([[ 1.        , -2.5       ,  0.5       ],\n",
       "        [ 0.        ,  1.        , -0.33333333],\n",
       "        [ 0.        ,  0.        ,  1.        ]]))"
      ]
     },
     "execution_count": 9,
     "metadata": {},
     "output_type": "execute_result"
    }
   ],
   "source": [
    "A = np.array([[2.0, -5.0, 1.0], [-1.0, 3.0, -1.0], [3.0, -4.0, 2.0]])\n",
    "crout(A)"
   ]
  }
 ],
 "metadata": {
  "kernelspec": {
   "display_name": "Python 3",
   "language": "python",
   "name": "python3"
  },
  "language_info": {
   "codemirror_mode": {
    "name": "ipython",
    "version": 3
   },
   "file_extension": ".py",
   "mimetype": "text/x-python",
   "name": "python",
   "nbconvert_exporter": "python",
   "pygments_lexer": "ipython3",
   "version": "3.11.1"
  },
  "orig_nbformat": 4,
  "vscode": {
   "interpreter": {
    "hash": "4b6686ac564631b7dfe67130d288fcb771899a74ee6d345d5143a038a84b46cd"
   }
  }
 },
 "nbformat": 4,
 "nbformat_minor": 2
}
